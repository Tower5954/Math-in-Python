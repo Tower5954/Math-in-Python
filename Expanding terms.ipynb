{
 "cells": [
  {
   "cell_type": "markdown",
   "id": "sonic-beaver",
   "metadata": {},
   "source": [
    "# Expanding Terms"
   ]
  },
  {
   "cell_type": "code",
   "execution_count": 5,
   "id": "shaped-python",
   "metadata": {},
   "outputs": [],
   "source": [
    "import sympy as sym\n",
    "from IPython.display import display, Math\n",
    "from sympy.abc import x"
   ]
  },
  {
   "cell_type": "code",
   "execution_count": 8,
   "id": "reserved-individual",
   "metadata": {},
   "outputs": [],
   "source": [
    "# x = sym.symbols('x')\n",
    "\n",
    "\n",
    "term1 = (4* x + 5)\n",
    "term2 = x"
   ]
  },
  {
   "cell_type": "code",
   "execution_count": 9,
   "id": "wicked-temperature",
   "metadata": {},
   "outputs": [
    {
     "name": "stdout",
     "output_type": "stream",
     "text": [
      "x*(4*x + 5)\n"
     ]
    }
   ],
   "source": [
    "print(term1 * term2)"
   ]
  },
  {
   "cell_type": "code",
   "execution_count": 10,
   "id": "muslim-roots",
   "metadata": {},
   "outputs": [
    {
     "name": "stdout",
     "output_type": "stream",
     "text": [
      "4*x**2 + 5*x\n"
     ]
    }
   ],
   "source": [
    "print(sym.expand(term1 * term2))"
   ]
  },
  {
   "cell_type": "code",
   "execution_count": 11,
   "id": "dangerous-affiliate",
   "metadata": {},
   "outputs": [
    {
     "name": "stdout",
     "output_type": "stream",
     "text": [
      "<IPython.core.display.Math object>\n"
     ]
    }
   ],
   "source": [
    "print(Math(sym.latex(sym.expand(term1 * term2))))"
   ]
  },
  {
   "cell_type": "code",
   "execution_count": 12,
   "id": "integrated-termination",
   "metadata": {},
   "outputs": [
    {
     "data": {
      "text/latex": [
       "$\\displaystyle 4 x^{2} + 5 x$"
      ],
      "text/plain": [
       "<IPython.core.display.Math object>"
      ]
     },
     "metadata": {},
     "output_type": "display_data"
    }
   ],
   "source": [
    "display(Math(sym.latex(sym.expand(term1 * term2))))"
   ]
  },
  {
   "cell_type": "code",
   "execution_count": 13,
   "id": "eleven-compression",
   "metadata": {},
   "outputs": [],
   "source": [
    "term3 = x - 7"
   ]
  },
  {
   "cell_type": "code",
   "execution_count": 14,
   "id": "aerial-electricity",
   "metadata": {},
   "outputs": [
    {
     "data": {
      "text/latex": [
       "$\\displaystyle \\left(x - 7\\right) \\left(4 x + 5\\right)$"
      ],
      "text/plain": [
       "<IPython.core.display.Math object>"
      ]
     },
     "metadata": {},
     "output_type": "display_data"
    }
   ],
   "source": [
    "display(Math(sym.latex(term1 * term3)))"
   ]
  },
  {
   "cell_type": "code",
   "execution_count": 16,
   "id": "extreme-gallery",
   "metadata": {},
   "outputs": [
    {
     "data": {
      "text/latex": [
       "$\\displaystyle \\left(x - 7\\right) \\left(4 x + 5\\right)$"
      ],
      "text/plain": [
       "<IPython.core.display.Math object>"
      ]
     },
     "metadata": {},
     "output_type": "display_data"
    },
    {
     "data": {
      "text/latex": [
       "$\\displaystyle 4 x^{2} - 23 x - 35$"
      ],
      "text/plain": [
       "<IPython.core.display.Math object>"
      ]
     },
     "metadata": {},
     "output_type": "display_data"
    }
   ],
   "source": [
    "display(Math(sym.latex(term1 * term3)))\n",
    "display(Math(sym.latex(sym.expand(term1 * term3))))"
   ]
  },
  {
   "cell_type": "code",
   "execution_count": 17,
   "id": "chinese-stevens",
   "metadata": {},
   "outputs": [],
   "source": [
    "from sympy.abc import y"
   ]
  },
  {
   "cell_type": "code",
   "execution_count": 18,
   "id": "attended-sweden",
   "metadata": {},
   "outputs": [],
   "source": [
    "expr = x*(2*y**2 - 5**x/x)"
   ]
  },
  {
   "cell_type": "code",
   "execution_count": 20,
   "id": "floppy-thursday",
   "metadata": {},
   "outputs": [
    {
     "data": {
      "text/latex": [
       "$\\displaystyle x \\left(- \\frac{5^{x}}{x} + 2 y^{2}\\right)$"
      ],
      "text/plain": [
       "<IPython.core.display.Math object>"
      ]
     },
     "metadata": {},
     "output_type": "display_data"
    }
   ],
   "source": [
    "display(Math(sym.latex(expr)))"
   ]
  },
  {
   "cell_type": "code",
   "execution_count": 22,
   "id": "solar-mumbai",
   "metadata": {},
   "outputs": [
    {
     "data": {
      "text/latex": [
       "$\\displaystyle - 5^{x} + 2 x y^{2}$"
      ],
      "text/plain": [
       "<IPython.core.display.Math object>"
      ]
     },
     "metadata": {},
     "output_type": "display_data"
    }
   ],
   "source": [
    "display(Math(sym.latex(sym.expand(expr))))"
   ]
  },
  {
   "cell_type": "code",
   "execution_count": 23,
   "id": "jewish-married",
   "metadata": {},
   "outputs": [
    {
     "name": "stdout",
     "output_type": "stream",
     "text": [
      "Variable   Type        Data/Info\n",
      "--------------------------------\n",
      "Math       type        <class 'IPython.core.display.Math'>\n",
      "display    function    <function display at 0x00000224745E1310>\n",
      "expr       Mul         x*(-5**x/x + 2*y**2)\n",
      "sym        module      <module 'sympy' from 'c:\\<...>ges\\\\sympy\\\\__init__.py'>\n",
      "term1      Add         4*x + 5\n",
      "term2      Symbol      x\n",
      "term3      Add         x - 7\n",
      "trem2      Symbol      x\n",
      "x          Symbol      x\n",
      "y          Symbol      y\n"
     ]
    }
   ],
   "source": [
    "%whos"
   ]
  },
  {
   "cell_type": "markdown",
   "id": "wound-humidity",
   "metadata": {},
   "source": [
    "### Exercise"
   ]
  },
  {
   "cell_type": "code",
   "execution_count": 26,
   "id": "medical-steering",
   "metadata": {},
   "outputs": [],
   "source": [
    "Fxy = (4 + x)*(2 - y)"
   ]
  },
  {
   "cell_type": "code",
   "execution_count": 27,
   "id": "outer-abortion",
   "metadata": {},
   "outputs": [
    {
     "data": {
      "text/latex": [
       "$\\displaystyle 10$"
      ],
      "text/plain": [
       "10"
      ]
     },
     "execution_count": 27,
     "metadata": {},
     "output_type": "execute_result"
    }
   ],
   "source": [
    "Fxy.subs({x:1, y:0})"
   ]
  },
  {
   "cell_type": "code",
   "execution_count": 28,
   "id": "incoming-cornwall",
   "metadata": {},
   "outputs": [
    {
     "name": "stdout",
     "output_type": "stream",
     "text": [
      "When x = 0 and y = 0, f(x,y) = 8 \n",
      "When x = 0 and y = 1, f(x,y) = 4 \n",
      "When x = 0 and y = 2, f(x,y) = 0 \n",
      "When x = 1 and y = 0, f(x,y) = 10 \n",
      "When x = 1 and y = 1, f(x,y) = 5 \n",
      "When x = 1 and y = 2, f(x,y) = 0 \n",
      "When x = 2 and y = 0, f(x,y) = 12 \n",
      "When x = 2 and y = 1, f(x,y) = 6 \n",
      "When x = 2 and y = 2, f(x,y) = 0 \n"
     ]
    }
   ],
   "source": [
    "numrange = range(0,3)\n",
    "\n",
    "for xi in numrange:\n",
    "    for yi in numrange:\n",
    "        print('When x = %g and y = %g, f(x,y) = %g ' %(xi, yi, Fxy.subs({x:xi, y:yi})))"
   ]
  },
  {
   "cell_type": "code",
   "execution_count": null,
   "id": "identified-twist",
   "metadata": {},
   "outputs": [],
   "source": []
  }
 ],
 "metadata": {
  "hide_input": false,
  "kernelspec": {
   "display_name": "Python 3",
   "language": "python",
   "name": "python3"
  },
  "language_info": {
   "codemirror_mode": {
    "name": "ipython",
    "version": 3
   },
   "file_extension": ".py",
   "mimetype": "text/x-python",
   "name": "python",
   "nbconvert_exporter": "python",
   "pygments_lexer": "ipython3",
   "version": "3.9.2"
  }
 },
 "nbformat": 4,
 "nbformat_minor": 5
}
