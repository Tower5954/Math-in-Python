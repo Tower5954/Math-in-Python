{
 "cells": [
  {
   "cell_type": "markdown",
   "id": "roman-column",
   "metadata": {},
   "source": [
    "# Associative, communative, and distributive properties"
   ]
  },
  {
   "cell_type": "markdown",
   "id": "scientific-hacker",
   "metadata": {},
   "source": [
    "## Associative rule\n",
    "\n",
    "2(3 x 4) = (2 x 3)4\n",
    "\n",
    "2(12) = (6)4\n",
    "\n",
    "24 = 24\n",
    "\n",
    "----------------------\n",
    "\n",
    "a(b x c) = (a x b)c\n",
    "\n",
    "a(bc) = (ab)c\n",
    "\n",
    "abc = abc"
   ]
  },
  {
   "cell_type": "markdown",
   "id": "minus-labor",
   "metadata": {},
   "source": [
    "## Communative rule\n",
    "\n",
    "a x b = b x a\n",
    "\n",
    "(a = home, b = work and you *commute* to work **or** you *commute* to home. Same thing.)\n",
    "\n",
    "a x b x c = b x a x c = c x a x b"
   ]
  },
  {
   "cell_type": "markdown",
   "id": "associate-pastor",
   "metadata": {},
   "source": [
    "## Distributive rule\n",
    "\n",
    "x(y + z) = xy + xz"
   ]
  },
  {
   "cell_type": "code",
   "execution_count": 3,
   "id": "organizational-directive",
   "metadata": {},
   "outputs": [],
   "source": [
    "import sympy as sym\n",
    "from sympy.abc import x,y,z"
   ]
  },
  {
   "cell_type": "code",
   "execution_count": 4,
   "id": "wrapped-microwave",
   "metadata": {},
   "outputs": [],
   "source": [
    "# Associate\n",
    "\n",
    "expr_1 = x*(4*y)\n",
    "expr_2 = (x*4)*y"
   ]
  },
  {
   "cell_type": "code",
   "execution_count": 5,
   "id": "monthly-somewhere",
   "metadata": {},
   "outputs": [
    {
     "data": {
      "text/latex": [
       "$\\displaystyle 0$"
      ],
      "text/plain": [
       "0"
      ]
     },
     "execution_count": 5,
     "metadata": {},
     "output_type": "execute_result"
    }
   ],
   "source": [
    "expr_1 - expr_2"
   ]
  },
  {
   "cell_type": "code",
   "execution_count": 10,
   "id": "spatial-blond",
   "metadata": {},
   "outputs": [
    {
     "data": {
      "text/plain": [
       "True"
      ]
     },
     "execution_count": 10,
     "metadata": {},
     "output_type": "execute_result"
    }
   ],
   "source": [
    "expr_1 == expr_2"
   ]
  },
  {
   "cell_type": "code",
   "execution_count": 6,
   "id": "printable-adjustment",
   "metadata": {},
   "outputs": [],
   "source": [
    "# Commutative\n",
    "\n",
    "e1 = 4*x*y\n",
    "e2 = x*4*y\n",
    "e3 = y*x*4"
   ]
  },
  {
   "cell_type": "code",
   "execution_count": 7,
   "id": "prerequisite-scratch",
   "metadata": {},
   "outputs": [
    {
     "data": {
      "text/latex": [
       "$\\displaystyle 12 y$"
      ],
      "text/plain": [
       "12*y"
      ]
     },
     "execution_count": 7,
     "metadata": {},
     "output_type": "execute_result"
    }
   ],
   "source": [
    "e1.subs(x,3)"
   ]
  },
  {
   "cell_type": "code",
   "execution_count": 8,
   "id": "moving-domain",
   "metadata": {},
   "outputs": [
    {
     "data": {
      "text/latex": [
       "$\\displaystyle 24$"
      ],
      "text/plain": [
       "24"
      ]
     },
     "execution_count": 8,
     "metadata": {},
     "output_type": "execute_result"
    }
   ],
   "source": [
    "e1.subs({x:3, y:2})"
   ]
  },
  {
   "cell_type": "code",
   "execution_count": 9,
   "id": "caring-tournament",
   "metadata": {},
   "outputs": [
    {
     "name": "stdout",
     "output_type": "stream",
     "text": [
      "24\n",
      "24\n",
      "24\n"
     ]
    }
   ],
   "source": [
    "print(e1.subs({x:3, y:2}))\n",
    "print(e2.subs({x:3, y:2}))\n",
    "print(e3.subs({x:3, y:2}))"
   ]
  },
  {
   "cell_type": "code",
   "execution_count": 11,
   "id": "impressed-marker",
   "metadata": {},
   "outputs": [],
   "source": [
    "# Disributive rule\n",
    "\n",
    "a, b, c, d = sym.symbols('a, b, c, d')\n",
    "\n",
    "expr = (a+b) * (c+d)"
   ]
  },
  {
   "cell_type": "code",
   "execution_count": 12,
   "id": "golden-grain",
   "metadata": {},
   "outputs": [
    {
     "data": {
      "text/latex": [
       "$\\displaystyle \\left(a + b\\right) \\left(c + d\\right)$"
      ],
      "text/plain": [
       "(a + b)*(c + d)"
      ]
     },
     "execution_count": 12,
     "metadata": {},
     "output_type": "execute_result"
    }
   ],
   "source": [
    "expr"
   ]
  },
  {
   "cell_type": "code",
   "execution_count": 13,
   "id": "considerable-retro",
   "metadata": {},
   "outputs": [
    {
     "data": {
      "text/latex": [
       "$\\displaystyle a c + a d + b c + b d$"
      ],
      "text/plain": [
       "a*c + a*d + b*c + b*d"
      ]
     },
     "execution_count": 13,
     "metadata": {},
     "output_type": "execute_result"
    }
   ],
   "source": [
    "sym.expand(expr)"
   ]
  },
  {
   "cell_type": "markdown",
   "id": "opposite-dispatch",
   "metadata": {},
   "source": [
    "## Exercise"
   ]
  },
  {
   "cell_type": "code",
   "execution_count": 15,
   "id": "pleasant-accident",
   "metadata": {},
   "outputs": [],
   "source": [
    "w = sym.symbols('w')\n",
    "\n",
    "x = w*(4 - w) + 1/w**2 * (1 + w)"
   ]
  },
  {
   "cell_type": "code",
   "execution_count": 16,
   "id": "ranging-control",
   "metadata": {},
   "outputs": [],
   "source": [
    "f1 = x*(y + z)\n",
    "f2 = 3/x + x**2"
   ]
  },
  {
   "cell_type": "code",
   "execution_count": 17,
   "id": "experienced-spank",
   "metadata": {},
   "outputs": [
    {
     "data": {
      "text/latex": [
       "$\\displaystyle \\left(y + z\\right) \\left(w \\left(4 - w\\right) + \\frac{w + 1}{w^{2}}\\right) \\left(\\left(w \\left(4 - w\\right) + \\frac{w + 1}{w^{2}}\\right)^{2} + \\frac{3}{w \\left(4 - w\\right) + \\frac{w + 1}{w^{2}}}\\right)$"
      ],
      "text/plain": [
       "(y + z)*(w*(4 - w) + (w + 1)/w**2)*((w*(4 - w) + (w + 1)/w**2)**2 + 3/(w*(4 - w) + (w + 1)/w**2))"
      ]
     },
     "execution_count": 17,
     "metadata": {},
     "output_type": "execute_result"
    }
   ],
   "source": [
    "f1 * f2"
   ]
  },
  {
   "cell_type": "code",
   "execution_count": 18,
   "id": "weekly-lexington",
   "metadata": {},
   "outputs": [
    {
     "data": {
      "text/latex": [
       "$\\displaystyle \\frac{\\left(3 w^{6} + \\left(- w^{3} \\left(w - 4\\right) + w + 1\\right)^{3}\\right) \\left(y + z\\right)}{w^{6}}$"
      ],
      "text/plain": [
       "(3*w**6 + (-w**3*(w - 4) + w + 1)**3)*(y + z)/w**6"
      ]
     },
     "execution_count": 18,
     "metadata": {},
     "output_type": "execute_result"
    }
   ],
   "source": [
    "sym.simplify(f1 * f2)"
   ]
  },
  {
   "cell_type": "code",
   "execution_count": 19,
   "id": "fleet-firewall",
   "metadata": {},
   "outputs": [
    {
     "data": {
      "text/latex": [
       "$\\displaystyle 2 y + 2 z$"
      ],
      "text/plain": [
       "2*y + 2*z"
      ]
     },
     "execution_count": 19,
     "metadata": {},
     "output_type": "execute_result"
    }
   ],
   "source": [
    "f1.subs(x,2)"
   ]
  },
  {
   "cell_type": "code",
   "execution_count": 20,
   "id": "severe-liverpool",
   "metadata": {},
   "outputs": [
    {
     "data": {
      "text/latex": [
       "$\\displaystyle \\frac{11}{2}$"
      ],
      "text/plain": [
       "11/2"
      ]
     },
     "execution_count": 20,
     "metadata": {},
     "output_type": "execute_result"
    }
   ],
   "source": [
    "f2.subs(x,2)"
   ]
  },
  {
   "cell_type": "code",
   "execution_count": 21,
   "id": "pediatric-moscow",
   "metadata": {},
   "outputs": [
    {
     "data": {
      "text/latex": [
       "$\\displaystyle 0$"
      ],
      "text/plain": [
       "0"
      ]
     },
     "execution_count": 21,
     "metadata": {},
     "output_type": "execute_result"
    }
   ],
   "source": [
    "(f1 * f2) - (f2 * f1)"
   ]
  },
  {
   "cell_type": "code",
   "execution_count": null,
   "id": "exceptional-encounter",
   "metadata": {},
   "outputs": [],
   "source": []
  }
 ],
 "metadata": {
  "hide_input": false,
  "kernelspec": {
   "display_name": "Python 3",
   "language": "python",
   "name": "python3"
  },
  "language_info": {
   "codemirror_mode": {
    "name": "ipython",
    "version": 3
   },
   "file_extension": ".py",
   "mimetype": "text/x-python",
   "name": "python",
   "nbconvert_exporter": "python",
   "pygments_lexer": "ipython3",
   "version": "3.9.2"
  }
 },
 "nbformat": 4,
 "nbformat_minor": 5
}
