{
 "cells": [
  {
   "cell_type": "markdown",
   "id": "funny-being",
   "metadata": {},
   "source": [
    "# Introduction to Dictionaries {}"
   ]
  },
  {
   "cell_type": "code",
   "execution_count": 11,
   "id": "amazing-window",
   "metadata": {},
   "outputs": [],
   "source": [
    "import sympy as sym\n",
    "import numpy as np\n",
    "from IPython.display import display, Math "
   ]
  },
  {
   "cell_type": "code",
   "execution_count": 1,
   "id": "front-rough",
   "metadata": {},
   "outputs": [],
   "source": [
    "D = dict(fruit = ['Banana', 'Apple'], numbers = [1, 3, 5, 7])"
   ]
  },
  {
   "cell_type": "code",
   "execution_count": 2,
   "id": "alive-genesis",
   "metadata": {},
   "outputs": [
    {
     "name": "stdout",
     "output_type": "stream",
     "text": [
      "{'fruit': ['Banana', 'Apple'], 'numbers': [1, 3, 5, 7]}\n"
     ]
    }
   ],
   "source": [
    "print(D)"
   ]
  },
  {
   "cell_type": "code",
   "execution_count": 3,
   "id": "eastern-horror",
   "metadata": {},
   "outputs": [
    {
     "data": {
      "text/plain": [
       "dict_keys(['fruit', 'numbers'])"
      ]
     },
     "execution_count": 3,
     "metadata": {},
     "output_type": "execute_result"
    }
   ],
   "source": [
    "D.keys()"
   ]
  },
  {
   "cell_type": "code",
   "execution_count": 5,
   "id": "broadband-making",
   "metadata": {},
   "outputs": [
    {
     "data": {
      "text/plain": [
       "['Banana', 'Apple']"
      ]
     },
     "execution_count": 5,
     "metadata": {},
     "output_type": "execute_result"
    }
   ],
   "source": [
    "D['fruit']"
   ]
  },
  {
   "cell_type": "code",
   "execution_count": 6,
   "id": "exposed-integration",
   "metadata": {},
   "outputs": [
    {
     "data": {
      "text/plain": [
       "'Banana'"
      ]
     },
     "execution_count": 6,
     "metadata": {},
     "output_type": "execute_result"
    }
   ],
   "source": [
    "D['fruit'][0]"
   ]
  },
  {
   "cell_type": "code",
   "execution_count": 7,
   "id": "pending-porcelain",
   "metadata": {},
   "outputs": [
    {
     "data": {
      "text/plain": [
       "2"
      ]
     },
     "execution_count": 7,
     "metadata": {},
     "output_type": "execute_result"
    }
   ],
   "source": [
    "len(D)"
   ]
  },
  {
   "cell_type": "code",
   "execution_count": 8,
   "id": "cardiac-cross",
   "metadata": {},
   "outputs": [
    {
     "data": {
      "text/plain": [
       "['Banana', 'Apple']"
      ]
     },
     "execution_count": 8,
     "metadata": {},
     "output_type": "execute_result"
    }
   ],
   "source": [
    "D.get('fruit')"
   ]
  },
  {
   "cell_type": "code",
   "execution_count": 9,
   "id": "actual-bonus",
   "metadata": {},
   "outputs": [
    {
     "data": {
      "text/plain": [
       "'Banana'"
      ]
     },
     "execution_count": 9,
     "metadata": {},
     "output_type": "execute_result"
    }
   ],
   "source": [
    "D.get('fruit')[0]"
   ]
  },
  {
   "cell_type": "markdown",
   "id": "natural-pendant",
   "metadata": {},
   "source": [
    "### Looping through dictionaries:"
   ]
  },
  {
   "cell_type": "code",
   "execution_count": 10,
   "id": "growing-stuart",
   "metadata": {},
   "outputs": [
    {
     "name": "stdout",
     "output_type": "stream",
     "text": [
      "['Banana', 'Apple']\n",
      "[1, 3, 5, 7]\n"
     ]
    }
   ],
   "source": [
    "for items in D:\n",
    "    print(D[items])"
   ]
  },
  {
   "cell_type": "markdown",
   "id": "furnished-agenda",
   "metadata": {},
   "source": [
    "### Exercise"
   ]
  },
  {
   "cell_type": "code",
   "execution_count": 14,
   "id": "level-customer",
   "metadata": {},
   "outputs": [
    {
     "name": "stdout",
     "output_type": "stream",
     "text": [
      "Solutions for equations involvingequationsWithX:\n",
      "Solutions for equations involvingequationsWithY:\n"
     ]
    }
   ],
   "source": [
    "from sympy.abc import x\n",
    "from sympy.abc import y\n",
    "\n",
    "\n",
    "D = dict(equationsWithX = [4*x-6, x**2-9], equationsWithY = [sym.sin(y)])\n",
    "\n",
    "for keyi in D:\n",
    "    print('Solutions for equations involving' + keyi + ':' )"
   ]
  },
  {
   "cell_type": "code",
   "execution_count": 16,
   "id": "suspended-beach",
   "metadata": {},
   "outputs": [
    {
     "name": "stdout",
     "output_type": "stream",
     "text": [
      "Solutions for equations involving X:\n",
      "Solutions for equations involving Y:\n"
     ]
    }
   ],
   "source": [
    "for keyi in D:\n",
    "    print('Solutions for equations involving ' + keyi[-1] + ':' )"
   ]
  },
  {
   "cell_type": "code",
   "execution_count": 24,
   "id": "protective-noise",
   "metadata": {},
   "outputs": [
    {
     "name": "stdout",
     "output_type": "stream",
     "text": [
      "Solutions for equations involving X:\n"
     ]
    },
    {
     "data": {
      "text/latex": [
       "$\\displaystyle \\quad \\quad 4 x - 6 = 0\\quad \\Rightarrow \\quad X = \\left[ \\frac{3}{2}\\right]$"
      ],
      "text/plain": [
       "<IPython.core.display.Math object>"
      ]
     },
     "metadata": {},
     "output_type": "display_data"
    },
    {
     "data": {
      "text/latex": [
       "$\\displaystyle \\quad \\quad x^{2} - 9 = 0\\quad \\Rightarrow \\quad X = \\left[ -3, \\  3\\right]$"
      ],
      "text/plain": [
       "<IPython.core.display.Math object>"
      ]
     },
     "metadata": {},
     "output_type": "display_data"
    },
    {
     "name": "stdout",
     "output_type": "stream",
     "text": [
      "Solutions for equations involving Y:\n"
     ]
    },
    {
     "data": {
      "text/latex": [
       "$\\displaystyle \\quad \\quad \\sin{\\left(y \\right)} = 0\\quad \\Rightarrow \\quad Y = \\left[ 0, \\  \\pi\\right]$"
      ],
      "text/plain": [
       "<IPython.core.display.Math object>"
      ]
     },
     "metadata": {},
     "output_type": "display_data"
    }
   ],
   "source": [
    "for keyi in D:\n",
    "    print('Solutions for equations involving ' + keyi[-1] + ':' )\n",
    "    \n",
    "    for eqi in D[keyi]:\n",
    "        \n",
    "        leftPart = sym.latex(eqi) + ' = 0'\n",
    "        midPart = '\\\\quad \\\\Rightarrow \\\\quad ' + keyi[-1] + ' = '\n",
    "        rightPart = sym.latex(sym.solve(eqi))\n",
    "        \n",
    "        display(Math('\\\\quad \\\\quad ' + leftPart + midPart + rightPart))"
   ]
  },
  {
   "cell_type": "code",
   "execution_count": null,
   "id": "young-alias",
   "metadata": {},
   "outputs": [],
   "source": []
  }
 ],
 "metadata": {
  "hide_input": false,
  "kernelspec": {
   "display_name": "Python 3",
   "language": "python",
   "name": "python3"
  },
  "language_info": {
   "codemirror_mode": {
    "name": "ipython",
    "version": 3
   },
   "file_extension": ".py",
   "mimetype": "text/x-python",
   "name": "python",
   "nbconvert_exporter": "python",
   "pygments_lexer": "ipython3",
   "version": "3.9.2"
  }
 },
 "nbformat": 4,
 "nbformat_minor": 5
}
