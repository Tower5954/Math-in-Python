{
 "cells": [
  {
   "cell_type": "markdown",
   "id": "packed-quilt",
   "metadata": {},
   "source": [
    "# Multiplying Polynomials"
   ]
  },
  {
   "cell_type": "code",
   "execution_count": 1,
   "id": "limited-hardware",
   "metadata": {},
   "outputs": [],
   "source": [
    "import sympy as sym\n",
    "from IPython.display import display, Math"
   ]
  },
  {
   "cell_type": "code",
   "execution_count": 2,
   "id": "ordered-poison",
   "metadata": {},
   "outputs": [
    {
     "data": {
      "text/latex": [
       "$\\displaystyle x^{8}$"
      ],
      "text/plain": [
       "x**8"
      ]
     },
     "execution_count": 2,
     "metadata": {},
     "output_type": "execute_result"
    }
   ],
   "source": [
    "x = sym.symbols('x')\n",
    "\n",
    "x**5 * x**3"
   ]
  },
  {
   "cell_type": "code",
   "execution_count": 3,
   "id": "dirty-hydrogen",
   "metadata": {},
   "outputs": [
    {
     "data": {
      "text/latex": [
       "$\\displaystyle \\left(4 x^{2} - 2 x\\right) \\left(x^{3} - 1\\right)$"
      ],
      "text/plain": [
       "(4*x**2 - 2*x)*(x**3 - 1)"
      ]
     },
     "execution_count": 3,
     "metadata": {},
     "output_type": "execute_result"
    }
   ],
   "source": [
    "p1 = 4*x**2 - 2*x\n",
    "p2 = x**3 - 1\n",
    "\n",
    "p1 * p2"
   ]
  },
  {
   "cell_type": "code",
   "execution_count": 4,
   "id": "welsh-thailand",
   "metadata": {},
   "outputs": [
    {
     "data": {
      "text/latex": [
       "$\\displaystyle 4 x^{5} - 2 x^{4} - 4 x^{2} + 2 x$"
      ],
      "text/plain": [
       "4*x**5 - 2*x**4 - 4*x**2 + 2*x"
      ]
     },
     "execution_count": 4,
     "metadata": {},
     "output_type": "execute_result"
    }
   ],
   "source": [
    "sym.expand(p1 * p2)"
   ]
  },
  {
   "cell_type": "markdown",
   "id": "lesser-junior",
   "metadata": {},
   "source": [
    "### Exercise"
   ]
  },
  {
   "cell_type": "code",
   "execution_count": 13,
   "id": "valid-flash",
   "metadata": {},
   "outputs": [],
   "source": [
    "y = sym.symbols('y')\n",
    "\n",
    "f = 4*x**4 - 3*x**2 + x*y**2 - 9*y**3\n",
    "g = -x**3 + 6*x**2*y + 0.8*y**3"
   ]
  },
  {
   "cell_type": "code",
   "execution_count": 14,
   "id": "crude-sarah",
   "metadata": {},
   "outputs": [
    {
     "data": {
      "text/latex": [
       "$\\displaystyle \\left(- x^{3} + 6 x^{2} y + 0.8 y^{3}\\right) \\left(4 x^{4} - 3 x^{2} + x y^{2} - 9 y^{3}\\right)$"
      ],
      "text/plain": [
       "(-x**3 + 6*x**2*y + 0.8*y**3)*(4*x**4 - 3*x**2 + x*y**2 - 9*y**3)"
      ]
     },
     "execution_count": 14,
     "metadata": {},
     "output_type": "execute_result"
    }
   ],
   "source": [
    "f * g"
   ]
  },
  {
   "cell_type": "code",
   "execution_count": 15,
   "id": "opening-poster",
   "metadata": {},
   "outputs": [
    {
     "data": {
      "text/latex": [
       "$\\displaystyle 4 x^{4} - 3 x^{2} + x y^{2} - 9 y^{3}$"
      ],
      "text/plain": [
       "4*x**4 - 3*x**2 + x*y**2 - 9*y**3"
      ]
     },
     "execution_count": 15,
     "metadata": {},
     "output_type": "execute_result"
    }
   ],
   "source": [
    "f.subs({x:5, y:-2})\n",
    "g.subs({x:5, y:-2})\n",
    "\n",
    "f"
   ]
  },
  {
   "cell_type": "code",
   "execution_count": 16,
   "id": "right-consent",
   "metadata": {},
   "outputs": [
    {
     "data": {
      "text/latex": [
       "$\\displaystyle \\left(- x^{3} + 6 x^{2} y + 0.8 y^{3}\\right) \\left(4 x^{4} - 3 x^{2} + x y^{2} - 9 y^{3}\\right)$"
      ],
      "text/plain": [
       "(-x**3 + 6*x**2*y + 0.8*y**3)*(4*x**4 - 3*x**2 + x*y**2 - 9*y**3)"
      ]
     },
     "execution_count": 16,
     "metadata": {},
     "output_type": "execute_result"
    }
   ],
   "source": [
    "f * g"
   ]
  },
  {
   "cell_type": "code",
   "execution_count": 17,
   "id": "bronze-shame",
   "metadata": {},
   "outputs": [
    {
     "data": {
      "text/latex": [
       "$\\displaystyle -1085833.8$"
      ],
      "text/plain": [
       "-1085833.80000000"
      ]
     },
     "execution_count": 17,
     "metadata": {},
     "output_type": "execute_result"
    }
   ],
   "source": [
    "xval = 5\n",
    "yval = -2\n",
    "\n",
    "fg = (f*g).subs({x:xval, y:yval})\n",
    "fg"
   ]
  },
  {
   "cell_type": "code",
   "execution_count": 18,
   "id": "binary-basement",
   "metadata": {},
   "outputs": [],
   "source": [
    "fxy_ans = f.subs({x:xval, y:yval})\n",
    "gxy_ans = g.subs({x:xval, y:yval})"
   ]
  },
  {
   "cell_type": "code",
   "execution_count": 19,
   "id": "specialized-italian",
   "metadata": {},
   "outputs": [
    {
     "data": {
      "text/latex": [
       "$\\displaystyle -1085833.8$"
      ],
      "text/plain": [
       "-1085833.80000000"
      ]
     },
     "execution_count": 19,
     "metadata": {},
     "output_type": "execute_result"
    }
   ],
   "source": [
    "fxy_ans * gxy_ans"
   ]
  },
  {
   "cell_type": "code",
   "execution_count": null,
   "id": "parallel-athens",
   "metadata": {},
   "outputs": [],
   "source": []
  }
 ],
 "metadata": {
  "hide_input": false,
  "kernelspec": {
   "display_name": "Python 3",
   "language": "python",
   "name": "python3"
  },
  "language_info": {
   "codemirror_mode": {
    "name": "ipython",
    "version": 3
   },
   "file_extension": ".py",
   "mimetype": "text/x-python",
   "name": "python",
   "nbconvert_exporter": "python",
   "pygments_lexer": "ipython3",
   "version": "3.9.2"
  }
 },
 "nbformat": 4,
 "nbformat_minor": 5
}
