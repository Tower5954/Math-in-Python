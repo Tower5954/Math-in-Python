{
 "cells": [
  {
   "cell_type": "markdown",
   "id": "greatest-monte",
   "metadata": {},
   "source": [
    "## Solving for x"
   ]
  },
  {
   "cell_type": "code",
   "execution_count": 1,
   "id": "earlier-edinburgh",
   "metadata": {},
   "outputs": [],
   "source": [
    "import sympy as sym\n",
    "from IPython.display import display, Math"
   ]
  },
  {
   "cell_type": "code",
   "execution_count": 2,
   "id": "laden-standing",
   "metadata": {},
   "outputs": [],
   "source": [
    "x = sym.symbols('x')\n",
    "\n",
    "expr = 2*x + 4 - 9  # Homogeneous when expression equals zero"
   ]
  },
  {
   "cell_type": "code",
   "execution_count": 3,
   "id": "approved-chancellor",
   "metadata": {},
   "outputs": [
    {
     "data": {
      "text/plain": [
       "[5/2]"
      ]
     },
     "execution_count": 3,
     "metadata": {},
     "output_type": "execute_result"
    }
   ],
   "source": [
    "sym.solve(expr)"
   ]
  },
  {
   "cell_type": "markdown",
   "id": "growing-victor",
   "metadata": {},
   "source": [
    "* 2x = 9 - 4\n",
    "* 2x = 5\n",
    "* x = 5/2"
   ]
  },
  {
   "cell_type": "code",
   "execution_count": 4,
   "id": "least-catch",
   "metadata": {},
   "outputs": [
    {
     "data": {
      "text/latex": [
       "$\\displaystyle \\text{The solution to } 2*x - 5 \\text{ is x = } sol$"
      ],
      "text/plain": [
       "<IPython.core.display.Math object>"
      ]
     },
     "metadata": {},
     "output_type": "display_data"
    }
   ],
   "source": [
    "display(Math('\\\\text{The solution to } %s \\\\text{ is x = } sol' %(expr)))"
   ]
  },
  {
   "cell_type": "code",
   "execution_count": 5,
   "id": "hybrid-parade",
   "metadata": {},
   "outputs": [
    {
     "data": {
      "text/latex": [
       "$\\displaystyle \\text{The solution to } 2 x - 5 \\text{ is x = } sol$"
      ],
      "text/plain": [
       "<IPython.core.display.Math object>"
      ]
     },
     "metadata": {},
     "output_type": "display_data"
    }
   ],
   "source": [
    "display(Math('\\\\text{The solution to } %s \\\\text{ is x = } sol' %(sym.latex(expr))))"
   ]
  },
  {
   "cell_type": "code",
   "execution_count": 6,
   "id": "worse-concentration",
   "metadata": {},
   "outputs": [
    {
     "data": {
      "text/latex": [
       "$\\displaystyle \\text{The solution to } 2 x - 5 \\text{ is x = } 2.5$"
      ],
      "text/plain": [
       "<IPython.core.display.Math object>"
      ]
     },
     "metadata": {},
     "output_type": "display_data"
    }
   ],
   "source": [
    "display(Math('\\\\text{The solution to } %s \\\\text{ is x = } %g' %(sym.latex(expr), sym.solve(expr)[0])))"
   ]
  },
  {
   "cell_type": "markdown",
   "id": "premier-escape",
   "metadata": {},
   "source": [
    "#### When there is more than one solution:"
   ]
  },
  {
   "cell_type": "code",
   "execution_count": 7,
   "id": "bottom-afghanistan",
   "metadata": {},
   "outputs": [],
   "source": [
    "sol = sym.solve(x**2 - 4)"
   ]
  },
  {
   "cell_type": "code",
   "execution_count": 8,
   "id": "dressed-delivery",
   "metadata": {},
   "outputs": [
    {
     "data": {
      "text/plain": [
       "2"
      ]
     },
     "execution_count": 8,
     "metadata": {},
     "output_type": "execute_result"
    }
   ],
   "source": [
    "len(sol)"
   ]
  },
  {
   "cell_type": "code",
   "execution_count": 9,
   "id": "initial-bunch",
   "metadata": {},
   "outputs": [
    {
     "data": {
      "text/plain": [
       "list"
      ]
     },
     "execution_count": 9,
     "metadata": {},
     "output_type": "execute_result"
    }
   ],
   "source": [
    "type(sol)"
   ]
  },
  {
   "cell_type": "code",
   "execution_count": 14,
   "id": "encouraging-cherry",
   "metadata": {},
   "outputs": [
    {
     "name": "stdout",
     "output_type": "stream",
     "text": [
      "Solution #:1 is -2\n",
      "Solution #:2 is 2\n"
     ]
    }
   ],
   "source": [
    "expr = x**2 - 4\n",
    "sol = sym.solve(expr)\n",
    "\n",
    "for i in range(0, len(sol)):\n",
    "    print('Solution #:' + str(i + 1) + ' is ' + str(sol[i]))\n"
   ]
  },
  {
   "cell_type": "markdown",
   "id": "apparent-phenomenon",
   "metadata": {},
   "source": [
    "### Multiple variables"
   ]
  },
  {
   "cell_type": "code",
   "execution_count": 15,
   "id": "capital-monster",
   "metadata": {},
   "outputs": [],
   "source": [
    "y = sym.symbols('y')\n",
    "\n",
    "expr = x/4 - x*y + 5"
   ]
  },
  {
   "cell_type": "code",
   "execution_count": 16,
   "id": "present-palestine",
   "metadata": {},
   "outputs": [
    {
     "data": {
      "text/plain": [
       "[{x: 20/(4*y - 1)}]"
      ]
     },
     "execution_count": 16,
     "metadata": {},
     "output_type": "execute_result"
    }
   ],
   "source": [
    "sym.solve(expr)"
   ]
  },
  {
   "cell_type": "code",
   "execution_count": 17,
   "id": "hungarian-reality",
   "metadata": {},
   "outputs": [
    {
     "data": {
      "text/plain": [
       "[20/(4*y - 1)]"
      ]
     },
     "execution_count": 17,
     "metadata": {},
     "output_type": "execute_result"
    }
   ],
   "source": [
    "sym.solve(expr, x)"
   ]
  },
  {
   "cell_type": "code",
   "execution_count": 18,
   "id": "civilian-faith",
   "metadata": {},
   "outputs": [
    {
     "data": {
      "text/plain": [
       "[(x + 20)/(4*x)]"
      ]
     },
     "execution_count": 18,
     "metadata": {},
     "output_type": "execute_result"
    }
   ],
   "source": [
    "sym.solve(expr, y)"
   ]
  },
  {
   "cell_type": "code",
   "execution_count": null,
   "id": "bronze-waters",
   "metadata": {},
   "outputs": [],
   "source": []
  }
 ],
 "metadata": {
  "hide_input": false,
  "kernelspec": {
   "display_name": "Python 3",
   "language": "python",
   "name": "python3"
  },
  "language_info": {
   "codemirror_mode": {
    "name": "ipython",
    "version": 3
   },
   "file_extension": ".py",
   "mimetype": "text/x-python",
   "name": "python",
   "nbconvert_exporter": "python",
   "pygments_lexer": "ipython3",
   "version": "3.9.2"
  }
 },
 "nbformat": 4,
 "nbformat_minor": 5
}
