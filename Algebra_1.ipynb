{
 "cells": [
  {
   "cell_type": "markdown",
   "id": "greatest-monte",
   "metadata": {},
   "source": [
    "## Solving for x"
   ]
  },
  {
   "cell_type": "code",
   "execution_count": 1,
   "id": "earlier-edinburgh",
   "metadata": {},
   "outputs": [],
   "source": [
    "import sympy as sym\n",
    "from IPython.display import display, Math"
   ]
  },
  {
   "cell_type": "code",
   "execution_count": 2,
   "id": "laden-standing",
   "metadata": {},
   "outputs": [],
   "source": [
    "x = sym.symbols('x')\n",
    "\n",
    "expr = 2*x + 4 - 9  # Homogeneous when expression equals zero"
   ]
  },
  {
   "cell_type": "code",
   "execution_count": 3,
   "id": "approved-chancellor",
   "metadata": {},
   "outputs": [
    {
     "data": {
      "text/plain": [
       "[5/2]"
      ]
     },
     "execution_count": 3,
     "metadata": {},
     "output_type": "execute_result"
    }
   ],
   "source": [
    "sym.solve(expr)"
   ]
  },
  {
   "cell_type": "markdown",
   "id": "growing-victor",
   "metadata": {},
   "source": [
    "* 2x = 9 - 4\n",
    "* 2x = 5\n",
    "* x = 5/2"
   ]
  },
  {
   "cell_type": "code",
   "execution_count": 4,
   "id": "least-catch",
   "metadata": {},
   "outputs": [
    {
     "data": {
      "text/latex": [
       "$\\displaystyle \\text{The solution to } 2*x - 5 \\text{ is x = } sol$"
      ],
      "text/plain": [
       "<IPython.core.display.Math object>"
      ]
     },
     "metadata": {},
     "output_type": "display_data"
    }
   ],
   "source": [
    "display(Math('\\\\text{The solution to } %s \\\\text{ is x = } sol' %(expr)))"
   ]
  },
  {
   "cell_type": "code",
   "execution_count": 5,
   "id": "hybrid-parade",
   "metadata": {},
   "outputs": [
    {
     "data": {
      "text/latex": [
       "$\\displaystyle \\text{The solution to } 2 x - 5 \\text{ is x = } sol$"
      ],
      "text/plain": [
       "<IPython.core.display.Math object>"
      ]
     },
     "metadata": {},
     "output_type": "display_data"
    }
   ],
   "source": [
    "display(Math('\\\\text{The solution to } %s \\\\text{ is x = } sol' %(sym.latex(expr))))"
   ]
  },
  {
   "cell_type": "code",
   "execution_count": 6,
   "id": "worse-concentration",
   "metadata": {},
   "outputs": [
    {
     "data": {
      "text/latex": [
       "$\\displaystyle \\text{The solution to } 2 x - 5 \\text{ is x = } 2.5$"
      ],
      "text/plain": [
       "<IPython.core.display.Math object>"
      ]
     },
     "metadata": {},
     "output_type": "display_data"
    }
   ],
   "source": [
    "display(Math('\\\\text{The solution to } %s \\\\text{ is x = } %g' %(sym.latex(expr), sym.solve(expr)[0])))"
   ]
  },
  {
   "cell_type": "markdown",
   "id": "premier-escape",
   "metadata": {},
   "source": [
    "#### When there is more than one solution:"
   ]
  },
  {
   "cell_type": "code",
   "execution_count": 7,
   "id": "bottom-afghanistan",
   "metadata": {},
   "outputs": [],
   "source": [
    "sol = sym.solve(x**2 - 4)"
   ]
  },
  {
   "cell_type": "code",
   "execution_count": 8,
   "id": "dressed-delivery",
   "metadata": {},
   "outputs": [
    {
     "data": {
      "text/plain": [
       "2"
      ]
     },
     "execution_count": 8,
     "metadata": {},
     "output_type": "execute_result"
    }
   ],
   "source": [
    "len(sol)"
   ]
  },
  {
   "cell_type": "code",
   "execution_count": 9,
   "id": "initial-bunch",
   "metadata": {},
   "outputs": [
    {
     "data": {
      "text/plain": [
       "list"
      ]
     },
     "execution_count": 9,
     "metadata": {},
     "output_type": "execute_result"
    }
   ],
   "source": [
    "type(sol)"
   ]
  },
  {
   "cell_type": "code",
   "execution_count": 14,
   "id": "encouraging-cherry",
   "metadata": {},
   "outputs": [
    {
     "name": "stdout",
     "output_type": "stream",
     "text": [
      "Solution #:1 is -2\n",
      "Solution #:2 is 2\n"
     ]
    }
   ],
   "source": [
    "expr = x**2 - 4\n",
    "sol = sym.solve(expr)\n",
    "\n",
    "for i in range(0, len(sol)):\n",
    "    print('Solution #:' + str(i + 1) + ' is ' + str(sol[i]))\n"
   ]
  },
  {
   "cell_type": "markdown",
   "id": "collectible-combine",
   "metadata": {},
   "source": [
    "### Multiple variables"
   ]
  },
  {
   "cell_type": "code",
   "execution_count": 15,
   "id": "choice-radio",
   "metadata": {},
   "outputs": [],
   "source": [
    "y = sym.symbols('y')\n",
    "\n",
    "expr = x/4 - x*y + 5"
   ]
  },
  {
   "cell_type": "code",
   "execution_count": 16,
   "id": "three-agency",
   "metadata": {},
   "outputs": [
    {
     "data": {
      "text/plain": [
       "[{x: 20/(4*y - 1)}]"
      ]
     },
     "execution_count": 16,
     "metadata": {},
     "output_type": "execute_result"
    }
   ],
   "source": [
    "sym.solve(expr)"
   ]
  },
  {
   "cell_type": "code",
   "execution_count": 17,
   "id": "governmental-linux",
   "metadata": {},
   "outputs": [
    {
     "data": {
      "text/plain": [
       "[20/(4*y - 1)]"
      ]
     },
     "execution_count": 17,
     "metadata": {},
     "output_type": "execute_result"
    }
   ],
   "source": [
    "sym.solve(expr, x)"
   ]
  },
  {
   "cell_type": "code",
   "execution_count": 18,
   "id": "retained-addiction",
   "metadata": {},
   "outputs": [
    {
     "data": {
      "text/plain": [
       "[(x + 20)/(4*x)]"
      ]
     },
     "execution_count": 18,
     "metadata": {},
     "output_type": "execute_result"
    }
   ],
   "source": [
    "sym.solve(expr, y)"
   ]
  },
  {
   "cell_type": "markdown",
   "id": "blessed-indication",
   "metadata": {},
   "source": [
    "## Solving for x: exercises"
   ]
  },
  {
   "cell_type": "code",
   "execution_count": 32,
   "id": "structural-parallel",
   "metadata": {},
   "outputs": [
    {
     "data": {
      "text/latex": [
       "$\\displaystyle - 2 q + 2 + \\frac{3}{q}$"
      ],
      "text/plain": [
       "<IPython.core.display.Math object>"
      ]
     },
     "metadata": {},
     "output_type": "display_data"
    }
   ],
   "source": [
    "# 1\n",
    "\n",
    "q = sym.symbols('q')\n",
    "\n",
    "ex = 3*q + 4/q + 3 - (5*q + 1/q + 1) \n",
    "\n",
    "display(Math(sym.latex(ex)))"
   ]
  },
  {
   "cell_type": "code",
   "execution_count": 36,
   "id": "cardiac-canon",
   "metadata": {},
   "outputs": [
    {
     "data": {
      "text/latex": [
       "$\\displaystyle q=\\left[ \\frac{1}{2} - \\frac{\\sqrt{7}}{2}, \\  \\frac{1}{2} + \\frac{\\sqrt{7}}{2}\\right]$"
      ],
      "text/plain": [
       "<IPython.core.display.Math object>"
      ]
     },
     "metadata": {},
     "output_type": "display_data"
    }
   ],
   "source": [
    "display(Math('q=' + sym.latex(sym.solve(ex,q))))"
   ]
  },
  {
   "cell_type": "code",
   "execution_count": 37,
   "id": "exposed-retention",
   "metadata": {},
   "outputs": [],
   "source": [
    "#2 \n",
    "\n",
    "eq  = 2*q + 3*q**2 - 5/q - 4/q**3 "
   ]
  },
  {
   "cell_type": "code",
   "execution_count": 38,
   "id": "round-inquiry",
   "metadata": {},
   "outputs": [
    {
     "data": {
      "text/latex": [
       "$\\displaystyle 3 q^{2} + 2 q - \\frac{5}{q} - \\frac{4}{q^{3}}$"
      ],
      "text/plain": [
       "<IPython.core.display.Math object>"
      ]
     },
     "metadata": {},
     "output_type": "display_data"
    }
   ],
   "source": [
    "display(Math(sym.latex(eq)))"
   ]
  },
  {
   "cell_type": "code",
   "execution_count": 41,
   "id": "actual-suggestion",
   "metadata": {},
   "outputs": [
    {
     "data": {
      "text/latex": [
       "$\\displaystyle \\frac{3 q^{5} + 2 q^{4} - 5 q^{2} - 4}{q^{3}}$"
      ],
      "text/plain": [
       "<IPython.core.display.Math object>"
      ]
     },
     "metadata": {},
     "output_type": "display_data"
    }
   ],
   "source": [
    "display(Math(sym.latex(sym.cancel(eq))))"
   ]
  },
  {
   "cell_type": "code",
   "execution_count": 44,
   "id": "expanded-horse",
   "metadata": {},
   "outputs": [],
   "source": [
    "# 3\n",
    "\n",
    "ex = (sym.sqrt(3) + sym.sqrt(15) * q) / (sym.sqrt(2) + sym.sqrt(10) * q) "
   ]
  },
  {
   "cell_type": "code",
   "execution_count": 45,
   "id": "confused-output",
   "metadata": {},
   "outputs": [
    {
     "data": {
      "text/latex": [
       "$\\displaystyle \\frac{\\sqrt{15} q + \\sqrt{3}}{\\sqrt{10} q + \\sqrt{2}}$"
      ],
      "text/plain": [
       "<IPython.core.display.Math object>"
      ]
     },
     "metadata": {},
     "output_type": "display_data"
    }
   ],
   "source": [
    "display(Math(sym.latex(ex)))"
   ]
  },
  {
   "cell_type": "code",
   "execution_count": 46,
   "id": "alleged-amount",
   "metadata": {},
   "outputs": [
    {
     "data": {
      "text/latex": [
       "$\\displaystyle \\frac{\\sqrt{3} + 10 \\sqrt{15}}{\\sqrt{2} + 10 \\sqrt{10}}$"
      ],
      "text/plain": [
       "(sqrt(3) + 10*sqrt(15))/(sqrt(2) + 10*sqrt(10))"
      ]
     },
     "execution_count": 46,
     "metadata": {},
     "output_type": "execute_result"
    }
   ],
   "source": [
    "ex.subs(q, 10)"
   ]
  },
  {
   "cell_type": "code",
   "execution_count": 47,
   "id": "simplified-wednesday",
   "metadata": {},
   "outputs": [
    {
     "data": {
      "text/latex": [
       "$\\displaystyle 1.22474487139159$"
      ],
      "text/plain": [
       "1.22474487139159"
      ]
     },
     "execution_count": 47,
     "metadata": {},
     "output_type": "execute_result"
    }
   ],
   "source": [
    "ex.subs(q, 10).evalf()"
   ]
  },
  {
   "cell_type": "code",
   "execution_count": 51,
   "id": "tender-stack",
   "metadata": {},
   "outputs": [
    {
     "data": {
      "text/latex": [
       "$\\displaystyle \\frac{\\sqrt{6}}{2}$"
      ],
      "text/plain": [
       "<IPython.core.display.Math object>"
      ]
     },
     "metadata": {},
     "output_type": "display_data"
    }
   ],
   "source": [
    "display(Math(sym.latex(sym.simplify(ex))))"
   ]
  },
  {
   "cell_type": "code",
   "execution_count": null,
   "id": "chicken-swaziland",
   "metadata": {},
   "outputs": [],
   "source": []
  }
 ],
 "metadata": {
  "hide_input": false,
  "kernelspec": {
   "display_name": "Python 3",
   "language": "python",
   "name": "python3"
  },
  "language_info": {
   "codemirror_mode": {
    "name": "ipython",
    "version": 3
   },
   "file_extension": ".py",
   "mimetype": "text/x-python",
   "name": "python",
   "nbconvert_exporter": "python",
   "pygments_lexer": "ipython3",
   "version": "3.9.2"
  }
 },
 "nbformat": 4,
 "nbformat_minor": 5
}
