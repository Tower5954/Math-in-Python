{
 "cells": [
  {
   "cell_type": "markdown",
   "id": "partial-turkish",
   "metadata": {},
   "source": [
    "# Prime Factorisation"
   ]
  },
  {
   "cell_type": "markdown",
   "id": "unique-register",
   "metadata": {},
   "source": [
    "## Prime Numbers"
   ]
  },
  {
   "cell_type": "markdown",
   "id": "silver-colorado",
   "metadata": {},
   "source": [
    "Prime numbers: Divisible only by itself and 1\n",
    "\n",
    "### Prime Factorisation:\n",
    "\n",
    "Breaking down a number into prime multiplicands\n",
    "\n",
    "8 = 2 x 2 x 2\n",
    "25 = 5 x 5\n",
    "48 = 2 x 2 x 2 x 2 x 3"
   ]
  },
  {
   "cell_type": "code",
   "execution_count": 1,
   "id": "advisory-bailey",
   "metadata": {},
   "outputs": [],
   "source": [
    "import sympy as sym"
   ]
  },
  {
   "cell_type": "code",
   "execution_count": 2,
   "id": "composite-advantage",
   "metadata": {},
   "outputs": [
    {
     "data": {
      "text/plain": [
       "{2: 4, 3: 1}"
      ]
     },
     "execution_count": 2,
     "metadata": {},
     "output_type": "execute_result"
    }
   ],
   "source": [
    "number = 48\n",
    "\n",
    "sym.factorint(number)"
   ]
  },
  {
   "cell_type": "code",
   "execution_count": 3,
   "id": "distinguished-probability",
   "metadata": {},
   "outputs": [
    {
     "name": "stdout",
     "output_type": "stream",
     "text": [
      "dict_keys([2, 3])\n"
     ]
    }
   ],
   "source": [
    "fact_dict = sym.factorint(number)\n",
    "\n",
    "print(fact_dict.keys())"
   ]
  },
  {
   "cell_type": "code",
   "execution_count": 4,
   "id": "stuffed-absence",
   "metadata": {},
   "outputs": [
    {
     "data": {
      "text/plain": [
       "[2, 3]"
      ]
     },
     "execution_count": 4,
     "metadata": {},
     "output_type": "execute_result"
    }
   ],
   "source": [
    "list(fact_dict.keys())"
   ]
  },
  {
   "cell_type": "markdown",
   "id": "mathematical-bryan",
   "metadata": {},
   "source": [
    "### Exercise"
   ]
  },
  {
   "cell_type": "code",
   "execution_count": 67,
   "id": "disturbed-dispatch",
   "metadata": {},
   "outputs": [
    {
     "name": "stdout",
     "output_type": "stream",
     "text": [
      "2: is a prime number\n",
      "3: is a prime number\n",
      "4: is a composite number with prime factors [2]\n",
      "5: is a prime number\n",
      "6: is a composite number with prime factors [2, 3]\n",
      "7: is a prime number\n",
      "8: is a composite number with prime factors [2]\n",
      "9: is a composite number with prime factors [3]\n",
      "10: is a composite number with prime factors [2, 5]\n",
      "11: is a prime number\n",
      "12: is a composite number with prime factors [2, 3]\n",
      "13: is a prime number\n",
      "14: is a composite number with prime factors [2, 7]\n",
      "15: is a composite number with prime factors [3, 5]\n",
      "16: is a composite number with prime factors [2]\n",
      "17: is a prime number\n",
      "18: is a composite number with prime factors [2, 3]\n",
      "19: is a prime number\n",
      "20: is a composite number with prime factors [2, 5]\n",
      "21: is a composite number with prime factors [3, 7]\n",
      "22: is a composite number with prime factors [2, 11]\n",
      "23: is a prime number\n",
      "24: is a composite number with prime factors [2, 3]\n",
      "25: is a composite number with prime factors [5]\n",
      "26: is a composite number with prime factors [2, 13]\n",
      "27: is a composite number with prime factors [3]\n",
      "28: is a composite number with prime factors [2, 7]\n",
      "29: is a prime number\n",
      "30: is a composite number with prime factors [2, 3, 5]\n",
      "31: is a prime number\n",
      "32: is a composite number with prime factors [2]\n",
      "33: is a composite number with prime factors [3, 11]\n",
      "34: is a composite number with prime factors [2, 17]\n",
      "35: is a composite number with prime factors [5, 7]\n",
      "36: is a composite number with prime factors [2, 3]\n",
      "37: is a prime number\n",
      "38: is a composite number with prime factors [2, 19]\n",
      "39: is a composite number with prime factors [3, 13]\n",
      "40: is a composite number with prime factors [2, 5]\n",
      "41: is a prime number\n",
      "42: is a composite number with prime factors [2, 3, 7]\n",
      "43: is a prime number\n",
      "44: is a composite number with prime factors [2, 11]\n",
      "45: is a composite number with prime factors [3, 5]\n",
      "46: is a composite number with prime factors [2, 23]\n",
      "47: is a prime number\n",
      "48: is a composite number with prime factors [2, 3]\n",
      "49: is a composite number with prime factors [7]\n",
      "50: is a composite number with prime factors [2, 5]\n"
     ]
    }
   ],
   "source": [
    "numbers = list(range(2, 51))\n",
    "\n",
    "\n",
    "for num in numbers:\n",
    "    fact_dict = sym.factorint(num)\n",
    "    fact_list = list(fact_dict)\n",
    "    fact_value = list(fact_dict.values())[0]\n",
    "    if len(fact_dict.keys()) == 1 and fact_value == 1:\n",
    "        print(f\"{num}: is a prime number\")\n",
    "    else:\n",
    "        print(f\"{num}: is a composite number with prime factors {fact_list}\" )\n",
    "\n",
    "\n"
   ]
  },
  {
   "cell_type": "code",
   "execution_count": null,
   "id": "concrete-desire",
   "metadata": {},
   "outputs": [],
   "source": []
  }
 ],
 "metadata": {
  "hide_input": false,
  "kernelspec": {
   "display_name": "Python 3",
   "language": "python",
   "name": "python3"
  },
  "language_info": {
   "codemirror_mode": {
    "name": "ipython",
    "version": 3
   },
   "file_extension": ".py",
   "mimetype": "text/x-python",
   "name": "python",
   "nbconvert_exporter": "python",
   "pygments_lexer": "ipython3",
   "version": "3.9.2"
  }
 },
 "nbformat": 4,
 "nbformat_minor": 5
}
