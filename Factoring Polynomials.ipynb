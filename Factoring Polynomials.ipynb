{
 "cells": [
  {
   "cell_type": "markdown",
   "id": "executed-pressing",
   "metadata": {},
   "source": [
    "# Factoring Polynomials\n"
   ]
  },
  {
   "cell_type": "code",
   "execution_count": 1,
   "id": "available-battery",
   "metadata": {},
   "outputs": [],
   "source": [
    "import sympy as sym\n",
    "from IPython.display import display,Math"
   ]
  },
  {
   "cell_type": "code",
   "execution_count": 2,
   "id": "universal-female",
   "metadata": {},
   "outputs": [],
   "source": [
    "x, y = sym.symbols('x, y')"
   ]
  },
  {
   "cell_type": "code",
   "execution_count": 3,
   "id": "decimal-chicago",
   "metadata": {},
   "outputs": [
    {
     "data": {
      "text/latex": [
       "$\\displaystyle x^{2} + 4 x + 3$"
      ],
      "text/plain": [
       "x**2 + 4*x + 3"
      ]
     },
     "execution_count": 3,
     "metadata": {},
     "output_type": "execute_result"
    }
   ],
   "source": [
    "p = x**2 + 4*x + 3\n",
    "p"
   ]
  },
  {
   "cell_type": "code",
   "execution_count": 4,
   "id": "oriented-murray",
   "metadata": {},
   "outputs": [
    {
     "data": {
      "text/latex": [
       "$\\displaystyle \\left(x + 1\\right) \\left(x + 3\\right)$"
      ],
      "text/plain": [
       "(x + 1)*(x + 3)"
      ]
     },
     "execution_count": 4,
     "metadata": {},
     "output_type": "execute_result"
    }
   ],
   "source": [
    "sym.factor(p)"
   ]
  },
  {
   "cell_type": "code",
   "execution_count": 5,
   "id": "adverse-payday",
   "metadata": {},
   "outputs": [
    {
     "data": {
      "text/latex": [
       "$\\displaystyle x^{2} + 4 x - 3$"
      ],
      "text/plain": [
       "x**2 + 4*x - 3"
      ]
     },
     "execution_count": 5,
     "metadata": {},
     "output_type": "execute_result"
    }
   ],
   "source": [
    "p1 = x**2 + 4*x - 3\n",
    "p1"
   ]
  },
  {
   "cell_type": "code",
   "execution_count": 6,
   "id": "sustained-liabilities",
   "metadata": {},
   "outputs": [
    {
     "data": {
      "text/latex": [
       "$\\displaystyle x^{2} + 4 x - 3$"
      ],
      "text/plain": [
       "x**2 + 4*x - 3"
      ]
     },
     "execution_count": 6,
     "metadata": {},
     "output_type": "execute_result"
    }
   ],
   "source": [
    "sym.factor(p1)"
   ]
  },
  {
   "cell_type": "code",
   "execution_count": 7,
   "id": "elegant-translation",
   "metadata": {},
   "outputs": [
    {
     "data": {
      "text/latex": [
       "$\\displaystyle 2 x \\left(x^{2} y + x y + 2 x - 3 y + 3\\right)$"
      ],
      "text/plain": [
       "2*x*(x**2*y + x*y + 2*x - 3*y + 3)"
      ]
     },
     "execution_count": 7,
     "metadata": {},
     "output_type": "execute_result"
    }
   ],
   "source": [
    "expr = 2*x**3*y - 2*x**2 + 2*x**2*y + 6*x**2 - 6*x*y + 6*x\n",
    "sym.factor(expr)"
   ]
  },
  {
   "cell_type": "code",
   "execution_count": 8,
   "id": "honest-america",
   "metadata": {},
   "outputs": [
    {
     "data": {
      "text/latex": [
       "$\\displaystyle 2 x^{3} y + 2 x^{2} y + 4 x^{2} - 6 x y + 6 x$"
      ],
      "text/plain": [
       "2*x**3*y + 2*x**2*y + 4*x**2 - 6*x*y + 6*x"
      ]
     },
     "execution_count": 8,
     "metadata": {},
     "output_type": "execute_result"
    }
   ],
   "source": [
    "expr"
   ]
  },
  {
   "cell_type": "markdown",
   "id": "attempted-fisher",
   "metadata": {},
   "source": [
    "### Exercise"
   ]
  },
  {
   "cell_type": "code",
   "execution_count": 11,
   "id": "acoustic-realtor",
   "metadata": {},
   "outputs": [],
   "source": [
    "name = 'mikei'\n"
   ]
  },
  {
   "cell_type": "code",
   "execution_count": 12,
   "id": "clinical-brisbane",
   "metadata": {},
   "outputs": [
    {
     "data": {
      "text/plain": [
       "1"
      ]
     },
     "execution_count": 12,
     "metadata": {},
     "output_type": "execute_result"
    }
   ],
   "source": [
    "name.find('i')"
   ]
  },
  {
   "cell_type": "code",
   "execution_count": 13,
   "id": "sonic-representative",
   "metadata": {},
   "outputs": [
    {
     "data": {
      "text/plain": [
       "2"
      ]
     },
     "execution_count": 13,
     "metadata": {},
     "output_type": "execute_result"
    }
   ],
   "source": [
    "name.find('k')"
   ]
  },
  {
   "cell_type": "code",
   "execution_count": 14,
   "id": "focused-relief",
   "metadata": {},
   "outputs": [
    {
     "data": {
      "text/plain": [
       "-1"
      ]
     },
     "execution_count": 14,
     "metadata": {},
     "output_type": "execute_result"
    }
   ],
   "source": [
    "name.find('q')"
   ]
  },
  {
   "cell_type": "code",
   "execution_count": 15,
   "id": "vertical-statement",
   "metadata": {},
   "outputs": [],
   "source": [
    "expr = [ x**2+4*x+3, 2*y**2-1, 3*y**2+12*y ]\n"
   ]
  },
  {
   "cell_type": "code",
   "execution_count": 16,
   "id": "decimal-divide",
   "metadata": {},
   "outputs": [
    {
     "name": "stdout",
     "output_type": "stream",
     "text": [
      "(x + 1)*(x + 3)\n",
      "2*y**2 - 1\n",
      "3*y*(y + 4)\n"
     ]
    }
   ],
   "source": [
    "for ei in expr:\n",
    "    strfact = str(sym.factor(ei))\n",
    "    print(strfact)"
   ]
  },
  {
   "cell_type": "code",
   "execution_count": 17,
   "id": "vanilla-duration",
   "metadata": {},
   "outputs": [
    {
     "data": {
      "text/latex": [
       "$\\displaystyle x^{2} + 4 x + 3 \\Rightarrow \\left(x + 1\\right) \\left(x + 3\\right)$"
      ],
      "text/plain": [
       "<IPython.core.display.Math object>"
      ]
     },
     "metadata": {},
     "output_type": "display_data"
    },
    {
     "data": {
      "text/latex": [
       "$\\displaystyle 3 y^{2} + 12 y \\Rightarrow 3 y \\left(y + 4\\right)$"
      ],
      "text/plain": [
       "<IPython.core.display.Math object>"
      ]
     },
     "metadata": {},
     "output_type": "display_data"
    }
   ],
   "source": [
    "for ei in expr:\n",
    "    strfact = str(sym.factor(ei))\n",
    "    \n",
    "    if strfact.find('(') != -1:\n",
    "        display(Math(\"%s \\\\Rightarrow %s\" %(sym.latex(ei), sym.latex(sym.factor(ei)))))"
   ]
  },
  {
   "cell_type": "code",
   "execution_count": 19,
   "id": "pending-quarter",
   "metadata": {},
   "outputs": [
    {
     "data": {
      "text/latex": [
       "$\\displaystyle x^{2} + 4 x + 3 \\quad \\Rightarrow \\quad \\left(x + 1\\right) \\left(x + 3\\right)$"
      ],
      "text/plain": [
       "<IPython.core.display.Math object>"
      ]
     },
     "metadata": {},
     "output_type": "display_data"
    },
    {
     "data": {
      "text/latex": [
       "$\\displaystyle 2 y^{2} - 1 \\quad \\Rightarrow \\quad \\text{not factorable!}$"
      ],
      "text/plain": [
       "<IPython.core.display.Math object>"
      ]
     },
     "metadata": {},
     "output_type": "display_data"
    },
    {
     "data": {
      "text/latex": [
       "$\\displaystyle 3 y^{2} + 12 y \\quad \\Rightarrow \\quad 3 y \\left(y + 4\\right)$"
      ],
      "text/plain": [
       "<IPython.core.display.Math object>"
      ]
     },
     "metadata": {},
     "output_type": "display_data"
    }
   ],
   "source": [
    "for ei in expr:\n",
    "    strfact = str(sym.factor(ei))\n",
    "    \n",
    "    if strfact.find('(') != -1:\n",
    "        display(Math(\"%s \\\\quad \\\\Rightarrow \\\\quad %s\" %(sym.latex(ei), sym.latex(sym.factor(ei)))))\n",
    "        \n",
    "    else:\n",
    "        display(Math(\"%s \\\\quad \\\\Rightarrow \\\\quad \\\\text{not factorable!}\" %(sym.latex(ei))))\n",
    "        "
   ]
  },
  {
   "cell_type": "code",
   "execution_count": null,
   "id": "above-sentence",
   "metadata": {},
   "outputs": [],
   "source": []
  }
 ],
 "metadata": {
  "hide_input": false,
  "kernelspec": {
   "display_name": "Python 3",
   "language": "python",
   "name": "python3"
  },
  "language_info": {
   "codemirror_mode": {
    "name": "ipython",
    "version": 3
   },
   "file_extension": ".py",
   "mimetype": "text/x-python",
   "name": "python",
   "nbconvert_exporter": "python",
   "pygments_lexer": "ipython3",
   "version": "3.9.2"
  }
 },
 "nbformat": 4,
 "nbformat_minor": 5
}
