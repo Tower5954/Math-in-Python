{
 "cells": [
  {
   "cell_type": "markdown",
   "id": "tamil-backing",
   "metadata": {},
   "source": [
    "# Greatest Common Denominator\n"
   ]
  },
  {
   "cell_type": "markdown",
   "id": "premier-bride",
   "metadata": {},
   "source": [
    "The largest integer that divides into two numbers with no remainder.\n",
    "\n",
    "Examples:\n",
    "    \n",
    "    gcd(2, 4) = 2\n",
    "    \n",
    "    gcd(6, 15) = 3\n",
    "    \n",
    "    gcd(6, 17) = 1"
   ]
  },
  {
   "cell_type": "markdown",
   "id": "balanced-strand",
   "metadata": {},
   "source": [
    "### Reducing fractions\n",
    "\n",
    "If gcd(a, b) = c, then a/b = (a/c) x c / (b/c) x c = (a/c) / (b/c)\n",
    "\n",
    "if gcd(6, 15) = 3, so 6/15 = (6/3) x 3 / (15/3) x 3 = (6/3) / (15/3) = 2/5"
   ]
  },
  {
   "cell_type": "code",
   "execution_count": 8,
   "id": "adolescent-finding",
   "metadata": {},
   "outputs": [],
   "source": [
    "import math\n",
    "from IPython.display import display, Math"
   ]
  },
  {
   "cell_type": "code",
   "execution_count": 5,
   "id": "fleet-ladder",
   "metadata": {},
   "outputs": [
    {
     "name": "stdout",
     "output_type": "stream",
     "text": [
      "2\n",
      "3\n"
     ]
    },
    {
     "data": {
      "text/plain": [
       "1"
      ]
     },
     "execution_count": 5,
     "metadata": {},
     "output_type": "execute_result"
    }
   ],
   "source": [
    "print(math.gcd(2, 4))\n",
    "print(math.gcd(6, 15))\n",
    "math.gcd(6, 17)"
   ]
  },
  {
   "cell_type": "code",
   "execution_count": 10,
   "id": "built-laptop",
   "metadata": {},
   "outputs": [
    {
     "data": {
      "text/plain": [
       "8"
      ]
     },
     "execution_count": 10,
     "metadata": {},
     "output_type": "execute_result"
    }
   ],
   "source": [
    "# application\n",
    "\n",
    "a = 16\n",
    "b = 88\n",
    "\n",
    "fact = math.gcd(a,b)\n",
    "fact"
   ]
  },
  {
   "cell_type": "code",
   "execution_count": 12,
   "id": "capital-school",
   "metadata": {},
   "outputs": [
    {
     "data": {
      "text/latex": [
       "$\\displaystyle \\frac{16}{88} = \\frac{2\\times 8}{11\\times 8}$"
      ],
      "text/plain": [
       "<IPython.core.display.Math object>"
      ]
     },
     "metadata": {},
     "output_type": "display_data"
    }
   ],
   "source": [
    "display(Math(\"\\\\frac{%g}{%g} = \\\\frac{%g\\\\times %g}{%g\\\\times %g}\" %(a, b, a/fact, fact, b/fact, fact) ))"
   ]
  },
  {
   "cell_type": "code",
   "execution_count": null,
   "id": "duplicate-trace",
   "metadata": {},
   "outputs": [],
   "source": []
  }
 ],
 "metadata": {
  "hide_input": false,
  "kernelspec": {
   "display_name": "Python 3",
   "language": "python",
   "name": "python3"
  },
  "language_info": {
   "codemirror_mode": {
    "name": "ipython",
    "version": 3
   },
   "file_extension": ".py",
   "mimetype": "text/x-python",
   "name": "python",
   "nbconvert_exporter": "python",
   "pygments_lexer": "ipython3",
   "version": "3.9.2"
  }
 },
 "nbformat": 4,
 "nbformat_minor": 5
}
