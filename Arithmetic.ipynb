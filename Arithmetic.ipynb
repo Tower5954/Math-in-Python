{
 "cells": [
  {
   "cell_type": "code",
   "execution_count": 2,
   "id": "previous-flash",
   "metadata": {},
   "outputs": [],
   "source": [
    "from IPython.display import display, Math"
   ]
  },
  {
   "cell_type": "code",
   "execution_count": 3,
   "id": "divided-abraham",
   "metadata": {},
   "outputs": [
    {
     "data": {
      "text/plain": [
       "'4 + 3 = 7'"
      ]
     },
     "metadata": {},
     "output_type": "display_data"
    }
   ],
   "source": [
    "display('4 + 3 = 7')"
   ]
  },
  {
   "cell_type": "code",
   "execution_count": 4,
   "id": "alone-scheme",
   "metadata": {},
   "outputs": [
    {
     "data": {
      "text/plain": [
       "'4 + 3 = 7'"
      ]
     },
     "metadata": {},
     "output_type": "display_data"
    },
    {
     "data": {
      "text/plain": [
       "'7'"
      ]
     },
     "metadata": {},
     "output_type": "display_data"
    }
   ],
   "source": [
    "display('4 + 3 = 7', str(4+3))"
   ]
  },
  {
   "cell_type": "code",
   "execution_count": 5,
   "id": "sitting-adolescent",
   "metadata": {},
   "outputs": [
    {
     "data": {
      "text/plain": [
       "'4 + 3 = 7'"
      ]
     },
     "metadata": {},
     "output_type": "display_data"
    }
   ],
   "source": [
    "display('4 + 3 = ' + str(4+3))"
   ]
  },
  {
   "cell_type": "code",
   "execution_count": 6,
   "id": "italic-breakfast",
   "metadata": {},
   "outputs": [
    {
     "data": {
      "text/latex": [
       "$\\displaystyle 4 + 3 = 7$"
      ],
      "text/plain": [
       "<IPython.core.display.Math object>"
      ]
     },
     "metadata": {},
     "output_type": "display_data"
    }
   ],
   "source": [
    "display(Math('4 + 3 = 7'))"
   ]
  },
  {
   "cell_type": "code",
   "execution_count": 7,
   "id": "democratic-yellow",
   "metadata": {},
   "outputs": [
    {
     "data": {
      "text/latex": [
       "$\\displaystyle 4$"
      ],
      "text/plain": [
       "<IPython.core.display.Math object>"
      ]
     },
     "metadata": {},
     "output_type": "display_data"
    }
   ],
   "source": [
    "x = 4\n",
    "y = 5\n",
    "\n",
    "display(Math (str(x) ))"
   ]
  },
  {
   "cell_type": "code",
   "execution_count": 8,
   "id": "authorized-sucking",
   "metadata": {},
   "outputs": [
    {
     "data": {
      "text/latex": [
       "$\\displaystyle 45$"
      ],
      "text/plain": [
       "<IPython.core.display.Math object>"
      ]
     },
     "metadata": {},
     "output_type": "display_data"
    }
   ],
   "source": [
    "display(Math (str(x) + str(y) ))"
   ]
  },
  {
   "cell_type": "code",
   "execution_count": 9,
   "id": "moved-saskatchewan",
   "metadata": {},
   "outputs": [
    {
     "data": {
      "text/latex": [
       "$\\displaystyle 4+5$"
      ],
      "text/plain": [
       "<IPython.core.display.Math object>"
      ]
     },
     "metadata": {},
     "output_type": "display_data"
    }
   ],
   "source": [
    "display(Math (str(x) + '+' + str(y)))"
   ]
  },
  {
   "cell_type": "code",
   "execution_count": 10,
   "id": "former-norman",
   "metadata": {},
   "outputs": [
    {
     "data": {
      "text/latex": [
       "$\\displaystyle 4+5=9$"
      ],
      "text/plain": [
       "<IPython.core.display.Math object>"
      ]
     },
     "metadata": {},
     "output_type": "display_data"
    }
   ],
   "source": [
    "display(Math (str(x) + '+' + str(y) + '=' + str(x+y)))"
   ]
  },
  {
   "cell_type": "code",
   "execution_count": 11,
   "id": "solar-trade",
   "metadata": {},
   "outputs": [
    {
     "data": {
      "text/latex": [
       "$\\displaystyle 4+5 = 9$"
      ],
      "text/plain": [
       "<IPython.core.display.Math object>"
      ]
     },
     "metadata": {},
     "output_type": "display_data"
    }
   ],
   "source": [
    "display(Math( '%g+%g = %g' %(x,y,x+y)))"
   ]
  },
  {
   "cell_type": "code",
   "execution_count": 12,
   "id": "familiar-alberta",
   "metadata": {
    "scrolled": true
   },
   "outputs": [
    {
     "data": {
      "text/latex": [
       "$\\displaystyle \\frac {4}{5}$"
      ],
      "text/plain": [
       "<IPython.core.display.Math object>"
      ]
     },
     "metadata": {},
     "output_type": "display_data"
    }
   ],
   "source": [
    "display(Math( '\\\\frac {4}{5}'))"
   ]
  },
  {
   "cell_type": "code",
   "execution_count": 13,
   "id": "regular-chrome",
   "metadata": {},
   "outputs": [
    {
     "data": {
      "text/latex": [
       "$\\displaystyle \\frac {4}{5} = .8$"
      ],
      "text/plain": [
       "<IPython.core.display.Math object>"
      ]
     },
     "metadata": {},
     "output_type": "display_data"
    }
   ],
   "source": [
    "display(Math( '\\\\frac {4}{5} = .8'))"
   ]
  },
  {
   "cell_type": "code",
   "execution_count": 14,
   "id": "prostate-northeast",
   "metadata": {},
   "outputs": [
    {
     "data": {
      "text/latex": [
       "$\\displaystyle 3.4 \\times 17 = 57.8$"
      ],
      "text/plain": [
       "<IPython.core.display.Math object>"
      ]
     },
     "metadata": {},
     "output_type": "display_data"
    }
   ],
   "source": [
    "x = 3.4\n",
    "y = 17\n",
    "\n",
    "display(Math( '%g \\\\times %g = %g' %(x, y, x*y)))"
   ]
  },
  {
   "cell_type": "markdown",
   "id": "collect-functionality",
   "metadata": {},
   "source": [
    "**Exercise**"
   ]
  },
  {
   "cell_type": "code",
   "execution_count": 15,
   "id": "effective-grass",
   "metadata": {},
   "outputs": [],
   "source": [
    "x = 7\n",
    "y = -2\n",
    "z = 5\n"
   ]
  },
  {
   "cell_type": "code",
   "execution_count": 16,
   "id": "about-agency",
   "metadata": {},
   "outputs": [
    {
     "data": {
      "text/latex": [
       "$\\displaystyle 3x(4+y) = 42$"
      ],
      "text/plain": [
       "<IPython.core.display.Math object>"
      ]
     },
     "metadata": {},
     "output_type": "display_data"
    },
    {
     "data": {
      "text/latex": [
       "$\\displaystyle 3 \\times 7 (4 + -2) = 42$"
      ],
      "text/plain": [
       "<IPython.core.display.Math object>"
      ]
     },
     "metadata": {},
     "output_type": "display_data"
    }
   ],
   "source": [
    "display(Math( '3x(4+y) = 42'))\n",
    "display(Math( '3 \\\\times %g (4 + %g) = 42' %(x, y,)) )"
   ]
  },
  {
   "cell_type": "code",
   "execution_count": 17,
   "id": "increased-representation",
   "metadata": {},
   "outputs": [
    {
     "data": {
      "text/plain": [
       "42"
      ]
     },
     "execution_count": 17,
     "metadata": {},
     "output_type": "execute_result"
    }
   ],
   "source": [
    "ans = 3*x*(4+y)\n",
    "ans"
   ]
  },
  {
   "cell_type": "code",
   "execution_count": 18,
   "id": "flush-tennis",
   "metadata": {},
   "outputs": [
    {
     "data": {
      "text/latex": [
       "$\\displaystyle 3x(4+y) = 42$"
      ],
      "text/plain": [
       "<IPython.core.display.Math object>"
      ]
     },
     "metadata": {},
     "output_type": "display_data"
    }
   ],
   "source": [
    "display(Math( '3x(4+y) = %g' %ans))"
   ]
  },
  {
   "cell_type": "code",
   "execution_count": 19,
   "id": "solar-honolulu",
   "metadata": {},
   "outputs": [
    {
     "data": {
      "text/plain": [
       "0"
      ]
     },
     "execution_count": 19,
     "metadata": {},
     "output_type": "execute_result"
    }
   ],
   "source": [
    "new_ans = int( -y-(x+3)/z )\n",
    "new_ans"
   ]
  },
  {
   "cell_type": "code",
   "execution_count": 20,
   "id": "spatial-arena",
   "metadata": {},
   "outputs": [
    {
     "data": {
      "text/latex": [
       "$\\displaystyle -y- \\frac{x+3}{z} = 0$"
      ],
      "text/plain": [
       "<IPython.core.display.Math object>"
      ]
     },
     "metadata": {},
     "output_type": "display_data"
    }
   ],
   "source": [
    "display(Math( '-y- \\\\frac{x+3}{z} = %g' %new_ans))"
   ]
  },
  {
   "cell_type": "code",
   "execution_count": 21,
   "id": "demonstrated-piece",
   "metadata": {},
   "outputs": [
    {
     "data": {
      "text/latex": [
       "$\\displaystyle --2- \\frac{7 +3}{5} = 0$"
      ],
      "text/plain": [
       "<IPython.core.display.Math object>"
      ]
     },
     "metadata": {},
     "output_type": "display_data"
    }
   ],
   "source": [
    "display(Math( '-%g- \\\\frac{%g +3}{%g} = %g' %(y,x,z,new_ans)  ))"
   ]
  },
  {
   "cell_type": "markdown",
   "id": "convenient-indicator",
   "metadata": {},
   "source": [
    "## Exponents"
   ]
  },
  {
   "cell_type": "code",
   "execution_count": 22,
   "id": "alpine-representative",
   "metadata": {},
   "outputs": [
    {
     "data": {
      "text/plain": [
       "9"
      ]
     },
     "execution_count": 22,
     "metadata": {},
     "output_type": "execute_result"
    }
   ],
   "source": [
    "3**2"
   ]
  },
  {
   "cell_type": "code",
   "execution_count": 23,
   "id": "linear-circle",
   "metadata": {},
   "outputs": [
    {
     "data": {
      "text/plain": [
       "27"
      ]
     },
     "execution_count": 23,
     "metadata": {},
     "output_type": "execute_result"
    }
   ],
   "source": [
    "3**3"
   ]
  },
  {
   "cell_type": "code",
   "execution_count": 24,
   "id": "phantom-antibody",
   "metadata": {},
   "outputs": [
    {
     "data": {
      "text/plain": [
       "81"
      ]
     },
     "execution_count": 24,
     "metadata": {},
     "output_type": "execute_result"
    }
   ],
   "source": [
    "3**4"
   ]
  },
  {
   "cell_type": "code",
   "execution_count": 25,
   "id": "productive-china",
   "metadata": {},
   "outputs": [
    {
     "data": {
      "text/plain": [
       "9"
      ]
     },
     "execution_count": 25,
     "metadata": {},
     "output_type": "execute_result"
    }
   ],
   "source": [
    "x = 2\n",
    "3**x"
   ]
  },
  {
   "cell_type": "code",
   "execution_count": 26,
   "id": "consolidated-tourist",
   "metadata": {},
   "outputs": [
    {
     "name": "stdout",
     "output_type": "stream",
     "text": [
      "243\n",
      "243\n"
     ]
    }
   ],
   "source": [
    "print( 3**5)\n",
    "print( 3*3*3*3*3)"
   ]
  },
  {
   "cell_type": "code",
   "execution_count": 27,
   "id": "intensive-cambodia",
   "metadata": {},
   "outputs": [
    {
     "name": "stdout",
     "output_type": "stream",
     "text": [
      "729\n",
      "13\n",
      "729\n"
     ]
    }
   ],
   "source": [
    "print(3**(2+4))\n",
    "print(3**2+4)\n",
    "print(3**2 * 3**4)"
   ]
  },
  {
   "cell_type": "code",
   "execution_count": 28,
   "id": "pointed-jason",
   "metadata": {},
   "outputs": [
    {
     "data": {
      "text/plain": [
       "2.0"
      ]
     },
     "execution_count": 28,
     "metadata": {},
     "output_type": "execute_result"
    }
   ],
   "source": [
    "4**(1/2)"
   ]
  },
  {
   "cell_type": "code",
   "execution_count": 29,
   "id": "legal-short",
   "metadata": {},
   "outputs": [
    {
     "data": {
      "text/plain": [
       "4.5"
      ]
     },
     "execution_count": 29,
     "metadata": {},
     "output_type": "execute_result"
    }
   ],
   "source": [
    "9**1/2"
   ]
  },
  {
   "cell_type": "code",
   "execution_count": 30,
   "id": "healthy-california",
   "metadata": {},
   "outputs": [
    {
     "data": {
      "text/plain": [
       "3.0"
      ]
     },
     "execution_count": 30,
     "metadata": {},
     "output_type": "execute_result"
    }
   ],
   "source": [
    "9**(1/2)"
   ]
  },
  {
   "cell_type": "markdown",
   "id": "developmental-glass",
   "metadata": {},
   "source": [
    "### Latex"
   ]
  },
  {
   "cell_type": "code",
   "execution_count": 31,
   "id": "accepting-gothic",
   "metadata": {},
   "outputs": [
    {
     "data": {
      "text/latex": [
       "$\\displaystyle  1 + 2 = 3$"
      ],
      "text/plain": [
       "<IPython.core.display.Math object>"
      ]
     },
     "metadata": {},
     "output_type": "display_data"
    }
   ],
   "source": [
    "display(Math (' 1 + 2 = 3'))"
   ]
  },
  {
   "cell_type": "code",
   "execution_count": 32,
   "id": "coupled-robin",
   "metadata": {},
   "outputs": [
    {
     "data": {
      "text/latex": [
       "$\\displaystyle  3^2 = 9$"
      ],
      "text/plain": [
       "<IPython.core.display.Math object>"
      ]
     },
     "metadata": {},
     "output_type": "display_data"
    }
   ],
   "source": [
    "display(Math( ' 3^2 = 9'))"
   ]
  },
  {
   "cell_type": "code",
   "execution_count": 33,
   "id": "neutral-blink",
   "metadata": {},
   "outputs": [
    {
     "data": {
      "text/latex": [
       "$\\displaystyle  3^2 \\times 3^4 = 3^{2 + 4}$"
      ],
      "text/plain": [
       "<IPython.core.display.Math object>"
      ]
     },
     "metadata": {},
     "output_type": "display_data"
    }
   ],
   "source": [
    "display(Math (' 3^2 \\\\times 3^4 = 3^{2 + 4}'))"
   ]
  },
  {
   "cell_type": "markdown",
   "id": "premier-legislature",
   "metadata": {},
   "source": [
    "#### Exercise"
   ]
  },
  {
   "cell_type": "code",
   "execution_count": 34,
   "id": "focused-dinner",
   "metadata": {},
   "outputs": [],
   "source": [
    "x = 5\n",
    "y = 5.1"
   ]
  },
  {
   "cell_type": "code",
   "execution_count": 35,
   "id": "intelligent-basketball",
   "metadata": {},
   "outputs": [
    {
     "data": {
      "text/plain": [
       "3933.09"
      ]
     },
     "execution_count": 35,
     "metadata": {},
     "output_type": "execute_result"
    }
   ],
   "source": [
    "ans_1 = x**(3/4) * 4**y \n",
    "answer_1 = round(ans_1, 2)\n",
    "answer_1"
   ]
  },
  {
   "cell_type": "code",
   "execution_count": 36,
   "id": "written-funds",
   "metadata": {},
   "outputs": [
    {
     "data": {
      "text/latex": [
       "$\\displaystyle  x^{3 / 4} \\times 4^y = 3933.09$"
      ],
      "text/plain": [
       "<IPython.core.display.Math object>"
      ]
     },
     "metadata": {},
     "output_type": "display_data"
    }
   ],
   "source": [
    "display(Math(' x^{3 / 4} \\\\times 4^y = %g' %answer_1))"
   ]
  },
  {
   "cell_type": "code",
   "execution_count": 37,
   "id": "constitutional-snapshot",
   "metadata": {},
   "outputs": [
    {
     "data": {
      "text/plain": [
       "0.00735558"
      ]
     },
     "execution_count": 37,
     "metadata": {},
     "output_type": "execute_result"
    }
   ],
   "source": [
    "ans_2 = (3**3) / (x**y)\n",
    "answer_2 = round(ans_2, 8)\n",
    "answer_2"
   ]
  },
  {
   "cell_type": "code",
   "execution_count": 38,
   "id": "swedish-indication",
   "metadata": {},
   "outputs": [
    {
     "data": {
      "text/latex": [
       "$\\displaystyle  \\frac {3^3} {x^y} = 0.00735558$"
      ],
      "text/plain": [
       "<IPython.core.display.Math object>"
      ]
     },
     "metadata": {},
     "output_type": "display_data"
    }
   ],
   "source": [
    "display(Math(' \\\\frac {3^3} {x^y} = %g' %answer_2))"
   ]
  },
  {
   "cell_type": "code",
   "execution_count": 39,
   "id": "medium-opposition",
   "metadata": {},
   "outputs": [
    {
     "data": {
      "text/plain": [
       "10"
      ]
     },
     "execution_count": 39,
     "metadata": {},
     "output_type": "execute_result"
    }
   ],
   "source": [
    "ans_3 = 10**(x-4)\n",
    "ans_3"
   ]
  },
  {
   "cell_type": "code",
   "execution_count": 40,
   "id": "central-circuit",
   "metadata": {},
   "outputs": [
    {
     "data": {
      "text/latex": [
       "$\\displaystyle 10^{x-4} = 10$"
      ],
      "text/plain": [
       "<IPython.core.display.Math object>"
      ]
     },
     "metadata": {},
     "output_type": "display_data"
    }
   ],
   "source": [
    "display(Math ('10^{x-4} = %g' %ans_3))"
   ]
  },
  {
   "cell_type": "markdown",
   "id": "excess-powell",
   "metadata": {},
   "source": [
    "## Using for Loops to compute powers"
   ]
  },
  {
   "cell_type": "code",
   "execution_count": 41,
   "id": "insured-proceeding",
   "metadata": {},
   "outputs": [
    {
     "name": "stdout",
     "output_type": "stream",
     "text": [
      "0\n",
      "1\n",
      "2\n",
      "3\n"
     ]
    }
   ],
   "source": [
    "for i in [0, 1, 2, 3]:\n",
    "    print(i)"
   ]
  },
  {
   "cell_type": "code",
   "execution_count": 42,
   "id": "meaning-blind",
   "metadata": {},
   "outputs": [
    {
     "name": "stdout",
     "output_type": "stream",
     "text": [
      "1\n",
      "3\n",
      "9\n",
      "27\n"
     ]
    }
   ],
   "source": [
    "for i in [0, 1, 2, 3]:\n",
    "    print(3**i)"
   ]
  },
  {
   "cell_type": "code",
   "execution_count": 43,
   "id": "foster-speaker",
   "metadata": {},
   "outputs": [
    {
     "name": "stdout",
     "output_type": "stream",
     "text": [
      "This is the 0th iteration\n",
      "This is the 1th iteration\n",
      "This is the 2th iteration\n"
     ]
    }
   ],
   "source": [
    "for qwerty in range(0,3):\n",
    "    print('This is the %gth iteration' %qwerty)"
   ]
  },
  {
   "cell_type": "code",
   "execution_count": 44,
   "id": "special-funeral",
   "metadata": {},
   "outputs": [
    {
     "name": "stdout",
     "output_type": "stream",
     "text": [
      "This is the 0th iteration\n",
      "This is the 1th iteration\n",
      "This is the 2th iteration\n"
     ]
    }
   ],
   "source": [
    "for qwerty in range(0,3):\n",
    "    print(f'This is the {qwerty}th iteration' )"
   ]
  },
  {
   "cell_type": "code",
   "execution_count": 45,
   "id": "worldwide-integral",
   "metadata": {},
   "outputs": [
    {
     "name": "stdout",
     "output_type": "stream",
     "text": [
      "0\n",
      "1\n",
      "4\n",
      "9\n",
      "16\n"
     ]
    }
   ],
   "source": [
    "for t in range(0,5):\n",
    "    num = t**2\n",
    "    print(num)"
   ]
  },
  {
   "cell_type": "markdown",
   "id": "going-three",
   "metadata": {},
   "source": [
    "#### Exercise."
   ]
  },
  {
   "cell_type": "code",
   "execution_count": 46,
   "id": "biblical-projection",
   "metadata": {},
   "outputs": [
    {
     "name": "stdout",
     "output_type": "stream",
     "text": [
      "2 to the power of 0 is 1\n",
      "2 to the power of 1 is 2\n",
      "2 to the power of 2 is 4\n",
      "2 to the power of 3 is 8\n",
      "2 to the power of 4 is 16\n",
      "2 to the power of 5 is 32\n",
      "2 to the power of 6 is 64\n",
      "2 to the power of 7 is 128\n",
      "2 to the power of 8 is 256\n",
      "2 to the power of 9 is 512\n"
     ]
    }
   ],
   "source": [
    "for t in range(0,10):\n",
    "    print(f'2 to the power of {t} is {2**t}')"
   ]
  },
  {
   "cell_type": "code",
   "execution_count": 47,
   "id": "natural-helping",
   "metadata": {},
   "outputs": [
    {
     "name": "stdout",
     "output_type": "stream",
     "text": [
      "2 to the power of 0 is 1 \n",
      "2 to the power of 1 is 2 \n",
      "2 to the power of 2 is 4 \n",
      "2 to the power of 3 is 8 \n",
      "2 to the power of 4 is 16 \n",
      "2 to the power of 5 is 32 \n",
      "2 to the power of 6 is 64 \n",
      "2 to the power of 7 is 128 \n",
      "2 to the power of 8 is 256 \n",
      "2 to the power of 9 is 512 \n"
     ]
    }
   ],
   "source": [
    "base = 2\n",
    "\n",
    "for i in range(0,10):\n",
    "    print(f'{base} to the power of {i} is {base**i} ')"
   ]
  },
  {
   "cell_type": "code",
   "execution_count": 48,
   "id": "thousand-twins",
   "metadata": {},
   "outputs": [
    {
     "name": "stdout",
     "output_type": "stream",
     "text": [
      "2 to the power of 0 is 1\n",
      "2 to the power of 1 is 2\n",
      "2 to the power of 2 is 4\n",
      "2 to the power of 3 is 8\n",
      "2 to the power of 4 is 16\n",
      "2 to the power of 5 is 32\n",
      "2 to the power of 6 is 64\n",
      "2 to the power of 7 is 128\n",
      "2 to the power of 8 is 256\n",
      "2 to the power of 9 is 512\n"
     ]
    }
   ],
   "source": [
    "base = 2\n",
    "\n",
    "for b in range(0, 10):\n",
    "    print('%g to the power of %g is %g' %(base, b, base**b))"
   ]
  },
  {
   "cell_type": "code",
   "execution_count": 49,
   "id": "english-leader",
   "metadata": {},
   "outputs": [
    {
     "name": "stdout",
     "output_type": "stream",
     "text": [
      "59 to the power of 0 is 1\n",
      "59 to the power of 1 is 59\n",
      "59 to the power of 2 is 3481\n",
      "59 to the power of 3 is 205379\n",
      "59 to the power of 4 is 1.21174e+07\n",
      "59 to the power of 5 is 7.14924e+08\n",
      "59 to the power of 6 is 4.21805e+10\n",
      "59 to the power of 7 is 2.48865e+12\n",
      "59 to the power of 8 is 1.4683e+14\n",
      "59 to the power of 9 is 8.663e+15\n"
     ]
    }
   ],
   "source": [
    "base = 59\n",
    "\n",
    "for b in range(0, 10):\n",
    "    print('%g to the power of %g is %g' %(base, b, base**b))"
   ]
  },
  {
   "cell_type": "markdown",
   "id": "worth-mileage",
   "metadata": {},
   "source": [
    "## Testing Inequalities and boolean data type"
   ]
  },
  {
   "cell_type": "code",
   "execution_count": 50,
   "id": "disciplinary-hacker",
   "metadata": {},
   "outputs": [
    {
     "data": {
      "text/plain": [
       "True"
      ]
     },
     "execution_count": 50,
     "metadata": {},
     "output_type": "execute_result"
    }
   ],
   "source": [
    "b = 10 > 3*3\n",
    "b"
   ]
  },
  {
   "cell_type": "code",
   "execution_count": 51,
   "id": "level-energy",
   "metadata": {},
   "outputs": [
    {
     "name": "stdout",
     "output_type": "stream",
     "text": [
      "<class 'bool'>\n"
     ]
    }
   ],
   "source": [
    "print(type(b))"
   ]
  },
  {
   "cell_type": "code",
   "execution_count": 52,
   "id": "owned-province",
   "metadata": {},
   "outputs": [
    {
     "data": {
      "text/plain": [
       "False"
      ]
     },
     "execution_count": 52,
     "metadata": {},
     "output_type": "execute_result"
    }
   ],
   "source": [
    "c = 10 < 3*3\n",
    "c"
   ]
  },
  {
   "cell_type": "code",
   "execution_count": 53,
   "id": "computational-customs",
   "metadata": {},
   "outputs": [
    {
     "name": "stdout",
     "output_type": "stream",
     "text": [
      "<class 'bool'>\n"
     ]
    }
   ],
   "source": [
    "print(type(c))"
   ]
  },
  {
   "cell_type": "code",
   "execution_count": 54,
   "id": "moved-liquid",
   "metadata": {},
   "outputs": [
    {
     "data": {
      "text/plain": [
       "False"
      ]
     },
     "execution_count": 54,
     "metadata": {},
     "output_type": "execute_result"
    }
   ],
   "source": [
    "d = 10 > 10\n",
    "d"
   ]
  },
  {
   "cell_type": "markdown",
   "id": "educated-census",
   "metadata": {},
   "source": [
    "#### Less than or equal. "
   ]
  },
  {
   "cell_type": "code",
   "execution_count": 55,
   "id": "charged-system",
   "metadata": {},
   "outputs": [
    {
     "data": {
      "text/plain": [
       "True"
      ]
     },
     "execution_count": 55,
     "metadata": {},
     "output_type": "execute_result"
    }
   ],
   "source": [
    "4 >= 2+2"
   ]
  },
  {
   "cell_type": "code",
   "execution_count": 56,
   "id": "skilled-diabetes",
   "metadata": {},
   "outputs": [
    {
     "data": {
      "text/plain": [
       "False"
      ]
     },
     "execution_count": 56,
     "metadata": {},
     "output_type": "execute_result"
    }
   ],
   "source": [
    "2 >= 3"
   ]
  },
  {
   "cell_type": "code",
   "execution_count": 57,
   "id": "designed-allah",
   "metadata": {},
   "outputs": [
    {
     "data": {
      "text/plain": [
       "True"
      ]
     },
     "execution_count": 57,
     "metadata": {},
     "output_type": "execute_result"
    }
   ],
   "source": [
    "15 <= 89"
   ]
  },
  {
   "cell_type": "code",
   "execution_count": 58,
   "id": "manual-indication",
   "metadata": {},
   "outputs": [
    {
     "data": {
      "text/plain": [
       "True"
      ]
     },
     "execution_count": 58,
     "metadata": {},
     "output_type": "execute_result"
    }
   ],
   "source": [
    "4 == 2 + 2"
   ]
  },
  {
   "cell_type": "code",
   "execution_count": 59,
   "id": "exotic-fields",
   "metadata": {},
   "outputs": [
    {
     "data": {
      "text/plain": [
       "True"
      ]
     },
     "execution_count": 59,
     "metadata": {},
     "output_type": "execute_result"
    }
   ],
   "source": [
    "27 == 3**3"
   ]
  },
  {
   "cell_type": "markdown",
   "id": "sonic-budget",
   "metadata": {},
   "source": [
    "### Exercise."
   ]
  },
  {
   "cell_type": "code",
   "execution_count": 60,
   "id": "opposed-smart",
   "metadata": {},
   "outputs": [],
   "source": [
    "equation_one = 4 * x + 3 < 17 - x**2\n",
    "equation_two = 8 * x - 2 <= -3 * x + 42"
   ]
  },
  {
   "cell_type": "code",
   "execution_count": 61,
   "id": "informal-light",
   "metadata": {},
   "outputs": [
    {
     "name": "stdout",
     "output_type": "stream",
     "text": [
      "False\n",
      "False\n",
      "False\n",
      "False\n",
      "False\n",
      "False\n"
     ]
    }
   ],
   "source": [
    "for i in range(2,5):\n",
    "    x = i\n",
    "    print(equation_one)\n",
    "    print(equation_two)"
   ]
  },
  {
   "cell_type": "code",
   "execution_count": 62,
   "id": "peripheral-village",
   "metadata": {},
   "outputs": [
    {
     "data": {
      "text/plain": [
       "False"
      ]
     },
     "execution_count": 62,
     "metadata": {},
     "output_type": "execute_result"
    }
   ],
   "source": [
    "4 * 3 + 3 < 17 - 9"
   ]
  },
  {
   "cell_type": "code",
   "execution_count": 63,
   "id": "impossible-handling",
   "metadata": {},
   "outputs": [
    {
     "data": {
      "text/plain": [
       "False"
      ]
     },
     "execution_count": 63,
     "metadata": {},
     "output_type": "execute_result"
    }
   ],
   "source": [
    "x = 2\n",
    "equation_one"
   ]
  },
  {
   "cell_type": "code",
   "execution_count": 64,
   "id": "assigned-cooling",
   "metadata": {},
   "outputs": [
    {
     "name": "stdout",
     "output_type": "stream",
     "text": [
      "True\n",
      "False\n",
      "False\n"
     ]
    }
   ],
   "source": [
    "for i in range(2,5):\n",
    "    print(4 * i + 3 < 17 - x**2)"
   ]
  },
  {
   "cell_type": "code",
   "execution_count": 65,
   "id": "pleased-monster",
   "metadata": {},
   "outputs": [
    {
     "name": "stdout",
     "output_type": "stream",
     "text": [
      "True\n",
      "True\n",
      "True\n"
     ]
    }
   ],
   "source": [
    "for j in range(2,5):\n",
    "    print(8 * j - 2 <= -3 * j + 42)"
   ]
  },
  {
   "cell_type": "markdown",
   "id": "bridal-canberra",
   "metadata": {},
   "source": [
    "## Using if-statements and logical operators "
   ]
  },
  {
   "cell_type": "code",
   "execution_count": 66,
   "id": "strange-bangkok",
   "metadata": {},
   "outputs": [
    {
     "name": "stdout",
     "output_type": "stream",
     "text": [
      "true\n"
     ]
    }
   ],
   "source": [
    "if 4+2 == 6:\n",
    "    print('true')\n"
   ]
  },
  {
   "cell_type": "code",
   "execution_count": 67,
   "id": "weighted-surveillance",
   "metadata": {},
   "outputs": [
    {
     "name": "stdout",
     "output_type": "stream",
     "text": [
      "not true\n"
     ]
    }
   ],
   "source": [
    "if 4+2 == 7:\n",
    "    print('true')\n",
    "else:\n",
    "    print('not true')"
   ]
  },
  {
   "cell_type": "code",
   "execution_count": 68,
   "id": "separate-diploma",
   "metadata": {},
   "outputs": [
    {
     "name": "stdout",
     "output_type": "stream",
     "text": [
      "not 8 but 6\n"
     ]
    }
   ],
   "source": [
    "if 4+2 == 8:\n",
    "    print('true')\n",
    "elif 4+2 == 6:\n",
    "    print('not 8 but 6')\n",
    "else:\n",
    "    ('nope, untrue')"
   ]
  },
  {
   "cell_type": "code",
   "execution_count": 69,
   "id": "engaged-comparison",
   "metadata": {},
   "outputs": [
    {
     "name": "stdout",
     "output_type": "stream",
     "text": [
      "5 is greater than 4\n"
     ]
    }
   ],
   "source": [
    "x1 = 5\n",
    "x2 = 4\n",
    "\n",
    "if x1 > x2:\n",
    "    print('%g is greater than %g' %(x1,x2))\n",
    "else:\n",
    "    print('Nope, untrue')"
   ]
  },
  {
   "cell_type": "markdown",
   "id": "engaged-aerospace",
   "metadata": {},
   "source": [
    "#### Exercise"
   ]
  },
  {
   "cell_type": "code",
   "execution_count": 70,
   "id": "indoor-surgery",
   "metadata": {},
   "outputs": [
    {
     "data": {
      "text/latex": [
       "$\\displaystyle 1 ^{-1} = 1$"
      ],
      "text/plain": [
       "<IPython.core.display.Math object>"
      ]
     },
     "metadata": {},
     "output_type": "display_data"
    },
    {
     "data": {
      "text/latex": [
       "$\\displaystyle 1 ^{-2} = 1$"
      ],
      "text/plain": [
       "<IPython.core.display.Math object>"
      ]
     },
     "metadata": {},
     "output_type": "display_data"
    },
    {
     "data": {
      "text/latex": [
       "$\\displaystyle 1 ^{-3} = 1$"
      ],
      "text/plain": [
       "<IPython.core.display.Math object>"
      ]
     },
     "metadata": {},
     "output_type": "display_data"
    },
    {
     "data": {
      "text/latex": [
       "$\\displaystyle 1 ^{-4} = 1$"
      ],
      "text/plain": [
       "<IPython.core.display.Math object>"
      ]
     },
     "metadata": {},
     "output_type": "display_data"
    },
    {
     "data": {
      "text/latex": [
       "$\\displaystyle 2 ^{-1} = 0.5$"
      ],
      "text/plain": [
       "<IPython.core.display.Math object>"
      ]
     },
     "metadata": {},
     "output_type": "display_data"
    },
    {
     "data": {
      "text/latex": [
       "$\\displaystyle 2 ^{-2} = 0.25$"
      ],
      "text/plain": [
       "<IPython.core.display.Math object>"
      ]
     },
     "metadata": {},
     "output_type": "display_data"
    },
    {
     "data": {
      "text/latex": [
       "$\\displaystyle 2 ^{-3} = 0.125$"
      ],
      "text/plain": [
       "<IPython.core.display.Math object>"
      ]
     },
     "metadata": {},
     "output_type": "display_data"
    },
    {
     "data": {
      "text/latex": [
       "$\\displaystyle 2 ^{-4} = 0.0625$"
      ],
      "text/plain": [
       "<IPython.core.display.Math object>"
      ]
     },
     "metadata": {},
     "output_type": "display_data"
    },
    {
     "data": {
      "text/latex": [
       "$\\displaystyle 3 ^{-1} = 0.333333$"
      ],
      "text/plain": [
       "<IPython.core.display.Math object>"
      ]
     },
     "metadata": {},
     "output_type": "display_data"
    },
    {
     "data": {
      "text/latex": [
       "$\\displaystyle 3 ^{-2} = 0.111111$"
      ],
      "text/plain": [
       "<IPython.core.display.Math object>"
      ]
     },
     "metadata": {},
     "output_type": "display_data"
    },
    {
     "data": {
      "text/latex": [
       "$\\displaystyle 3 ^{-3} = 0.037037$"
      ],
      "text/plain": [
       "<IPython.core.display.Math object>"
      ]
     },
     "metadata": {},
     "output_type": "display_data"
    },
    {
     "data": {
      "text/latex": [
       "$\\displaystyle 3 ^{-4} = 0.0123457$"
      ],
      "text/plain": [
       "<IPython.core.display.Math object>"
      ]
     },
     "metadata": {},
     "output_type": "display_data"
    }
   ],
   "source": [
    "for i in range(0,4):\n",
    "    for j in range(0,5):\n",
    "        if i > 0 and j > 0:\n",
    "#             print(f'{i}^{-j} = {i**-j}')\n",
    "            display(Math('%g ^{-%g} = %g' %(i,j,i**-j)))"
   ]
  },
  {
   "cell_type": "markdown",
   "id": "immediate-anthony",
   "metadata": {},
   "source": [
    "## Absolute value"
   ]
  },
  {
   "cell_type": "markdown",
   "id": "liable-enough",
   "metadata": {},
   "source": [
    "Notation: abs(x) or |x|"
   ]
  },
  {
   "cell_type": "code",
   "execution_count": 71,
   "id": "downtown-ground",
   "metadata": {},
   "outputs": [
    {
     "data": {
      "text/plain": [
       "4"
      ]
     },
     "execution_count": 71,
     "metadata": {},
     "output_type": "execute_result"
    }
   ],
   "source": [
    "abs(4)"
   ]
  },
  {
   "cell_type": "code",
   "execution_count": 72,
   "id": "changing-teens",
   "metadata": {},
   "outputs": [
    {
     "data": {
      "text/plain": [
       "4"
      ]
     },
     "execution_count": 72,
     "metadata": {},
     "output_type": "execute_result"
    }
   ],
   "source": [
    "abs(-4)"
   ]
  },
  {
   "cell_type": "code",
   "execution_count": 73,
   "id": "executive-recording",
   "metadata": {},
   "outputs": [
    {
     "data": {
      "text/plain": [
       "4"
      ]
     },
     "execution_count": 73,
     "metadata": {},
     "output_type": "execute_result"
    }
   ],
   "source": [
    "a = 4\n",
    "abs(a)"
   ]
  },
  {
   "cell_type": "code",
   "execution_count": 74,
   "id": "typical-scotland",
   "metadata": {},
   "outputs": [
    {
     "data": {
      "text/plain": [
       "(-4, 4)"
      ]
     },
     "execution_count": 74,
     "metadata": {},
     "output_type": "execute_result"
    }
   ],
   "source": [
    "a = -4\n",
    "b = abs(4)\n",
    "\n",
    "a,b"
   ]
  },
  {
   "cell_type": "code",
   "execution_count": 75,
   "id": "democratic-secret",
   "metadata": {},
   "outputs": [
    {
     "data": {
      "text/latex": [
       "$\\displaystyle | -4.3 | = 4.3$"
      ],
      "text/plain": [
       "<IPython.core.display.Math object>"
      ]
     },
     "metadata": {},
     "output_type": "display_data"
    }
   ],
   "source": [
    "x = -4.3\n",
    "\n",
    "display(Math( '| %g | = %g' %(x, abs(x))))"
   ]
  },
  {
   "cell_type": "markdown",
   "id": "twelve-mexico",
   "metadata": {},
   "source": [
    "### Exercise."
   ]
  },
  {
   "cell_type": "code",
   "execution_count": 76,
   "id": "focal-preservation",
   "metadata": {},
   "outputs": [
    {
     "name": "stdout",
     "output_type": "stream",
     "text": [
      "-4 was not tested. Absolute value of -4 is 4\n",
      "Absolute value of 6 is 6\n",
      "-1 was not tested. Absolute value of -1 is 1\n",
      "Absolute value of 43 is 43\n",
      "Absolute value of -18 is 18\n",
      "2 was not tested. Absolute value of 2 is 2\n",
      "0 was not tested. Absolute value of 0 is 0\n"
     ]
    }
   ],
   "source": [
    "num_set = [-4, 6, -1, 43, -18, 2, 0]\n",
    "\n",
    "for i in num_set:\n",
    "    if i < -5 or i > 2:\n",
    "        print( 'Absolute value of %g is %g' %(i, abs(i) ))\n",
    "    else:\n",
    "        print( str(i) + ' was not tested. Absolute value of %g is %g' %( i, abs(i) ))"
   ]
  },
  {
   "cell_type": "markdown",
   "id": "gentle-crowd",
   "metadata": {},
   "source": [
    "## Remainder after division (modulus)"
   ]
  },
  {
   "cell_type": "markdown",
   "id": "speaking-endorsement",
   "metadata": {},
   "source": [
    "10 / 3 = 3 with a remainder 1 *This remainder is called the* **modulus**"
   ]
  },
  {
   "cell_type": "code",
   "execution_count": 77,
   "id": "criminal-assist",
   "metadata": {},
   "outputs": [
    {
     "data": {
      "text/plain": [
       "3"
      ]
     },
     "execution_count": 77,
     "metadata": {},
     "output_type": "execute_result"
    }
   ],
   "source": [
    "a = 10\n",
    "b = 3\n",
    "\n",
    "# Integer division\n",
    "int(a/b)\n"
   ]
  },
  {
   "cell_type": "markdown",
   "id": "junior-button",
   "metadata": {},
   "source": [
    "To call the help function press `shift` and `tab` on the function"
   ]
  },
  {
   "cell_type": "code",
   "execution_count": 78,
   "id": "vietnamese-behalf",
   "metadata": {},
   "outputs": [
    {
     "data": {
      "text/plain": [
       "1"
      ]
     },
     "execution_count": 78,
     "metadata": {},
     "output_type": "execute_result"
    }
   ],
   "source": [
    "# modulus\n",
    "a%b"
   ]
  },
  {
   "cell_type": "code",
   "execution_count": 85,
   "id": "radio-henry",
   "metadata": {},
   "outputs": [
    {
     "name": "stdout",
     "output_type": "stream",
     "text": [
      "3354547 goes into 93774858595, 27954 times with a remainder of 1851757 \n",
      "3.35455e+06 goes into 9.37749e+10, 27954 times with a remainder of 1.85176e+06 \n"
     ]
    }
   ],
   "source": [
    "a = 93774858595\n",
    "b = 3354547\n",
    "\n",
    "divis = a/b\n",
    "remainder = a%b\n",
    "\n",
    "print(f\"{b} goes into {a}, {int(divis)} times with a remainder of {remainder} \")\n",
    "print(\"%g goes into %g, %g times with a remainder of %g \" %(b,a,int(divis), remainder))"
   ]
  },
  {
   "cell_type": "markdown",
   "id": "affecting-series",
   "metadata": {},
   "source": [
    "### Exercise."
   ]
  },
  {
   "cell_type": "code",
   "execution_count": 86,
   "id": "injured-davis",
   "metadata": {},
   "outputs": [
    {
     "name": "stdout",
     "output_type": "stream",
     "text": [
      "-5 is an odd number.\n",
      "-4 is an even number.\n",
      "-3 is an odd number.\n",
      "-2 is an even number.\n",
      "-1 is an odd number.\n",
      "0 is an even number.\n",
      "1 is an odd number.\n",
      "2 is an even number.\n",
      "3 is an odd number.\n",
      "4 is an even number.\n",
      "5 is an odd number.\n"
     ]
    }
   ],
   "source": [
    "numbers = [-5, -4, -3, -2, -1, 0, 1, 2, 3, 4, 5]\n",
    "\n",
    "for i in numbers:\n",
    "    if i % 2 == 0:\n",
    "        print(f\"{i} is an even number.\")\n",
    "    else:\n",
    "        print(f\"{i} is an odd number.\")"
   ]
  },
  {
   "cell_type": "code",
   "execution_count": 104,
   "id": "concrete-cooperative",
   "metadata": {},
   "outputs": [
    {
     "name": "stdout",
     "output_type": "stream",
     "text": [
      "-5 is an odd  number\n",
      "-4 is an even number.\n",
      "-3 is an odd  number\n",
      "-2 is an even number.\n",
      "-1 is an odd  number\n",
      " 0 is an even number.\n",
      " 1 is an odd  number.\n",
      " 2 is an even number.\n",
      " 3 is an odd  number.\n",
      " 4 is an even number.\n",
      " 5 is an odd  number.\n"
     ]
    }
   ],
   "source": [
    "numbers = [-5, -4, -3, -2, -1, 0, 1, 2, 3, 4, 5]\n",
    "\n",
    "for i in numbers:\n",
    "    if i % 2 == 0 and i > 0.1:\n",
    "        print(f\" {i} is an even number.\")\n",
    "    elif i % 2 == 0 and i < 0:\n",
    "        print(f\"{i} is an even number.\")\n",
    "    elif i == 0:\n",
    "        print(f\" {i} is an even number.\")\n",
    "    elif i % 2 != 0 and i > 0:\n",
    "        print(f\" {i} is an odd  number.\")\n",
    "    else:\n",
    "        print(f\"{i} is an odd  number\")"
   ]
  },
  {
   "cell_type": "code",
   "execution_count": 105,
   "id": "perfect-delta",
   "metadata": {},
   "outputs": [
    {
     "name": "stdout",
     "output_type": "stream",
     "text": [
      "-5 is an odd  number\n",
      "-4 is an even number\n",
      "-3 is an odd  number\n",
      "-2 is an even number\n",
      "-1 is an odd  number\n",
      " 0 is an even number\n",
      " 1 is an odd  number\n",
      " 2 is an even number\n",
      " 3 is an odd  number\n",
      " 4 is an even number\n",
      " 5 is an odd  number\n"
     ]
    }
   ],
   "source": [
    "nums = range(-5, 6)\n",
    "\n",
    "for i in nums:\n",
    "    firstchar = ' '\n",
    "    if  i < 0:\n",
    "        firstchar = ''\n",
    "        \n",
    "    if i % 2 == 0 :\n",
    "        print('%s%g is an even number' %(firstchar, i))\n",
    "        \n",
    "    else:\n",
    "        print('%s%G is an odd  number' %(firstchar, i))"
   ]
  },
  {
   "cell_type": "markdown",
   "id": "decent-absence",
   "metadata": {},
   "source": [
    "## Create interactive math functions"
   ]
  },
  {
   "cell_type": "code",
   "execution_count": 109,
   "id": "unlikely-liberal",
   "metadata": {},
   "outputs": [],
   "source": [
    "def myfunction():\n",
    "    print('Hello World.')"
   ]
  },
  {
   "cell_type": "code",
   "execution_count": 110,
   "id": "beautiful-specific",
   "metadata": {},
   "outputs": [
    {
     "data": {
      "text/plain": [
       "<function __main__.myfunction()>"
      ]
     },
     "execution_count": 110,
     "metadata": {},
     "output_type": "execute_result"
    }
   ],
   "source": [
    "myfunction"
   ]
  },
  {
   "cell_type": "code",
   "execution_count": 111,
   "id": "split-ownership",
   "metadata": {},
   "outputs": [
    {
     "name": "stdout",
     "output_type": "stream",
     "text": [
      "Hello World.\n"
     ]
    }
   ],
   "source": [
    "myfunction()"
   ]
  },
  {
   "cell_type": "code",
   "execution_count": 112,
   "id": "union-house",
   "metadata": {},
   "outputs": [],
   "source": [
    "def myfunc(name):\n",
    "    print('Hello %s' %name)"
   ]
  },
  {
   "cell_type": "code",
   "execution_count": 113,
   "id": "ahead-functionality",
   "metadata": {},
   "outputs": [
    {
     "name": "stdout",
     "output_type": "stream",
     "text": [
      "Hello Grant\n"
     ]
    }
   ],
   "source": [
    "myfunc('Grant')"
   ]
  },
  {
   "cell_type": "code",
   "execution_count": 115,
   "id": "wrapped-edwards",
   "metadata": {},
   "outputs": [],
   "source": [
    "def compute_remainder(x,y):\n",
    "    divis = int(x/y)\n",
    "    remainder = x%y\n",
    "    \n",
    "    print(f\"{y} goes into {x}, {int(divis)} times with a remainder of {remainder} \")"
   ]
  },
  {
   "cell_type": "code",
   "execution_count": 116,
   "id": "industrial-chapter",
   "metadata": {},
   "outputs": [
    {
     "name": "stdout",
     "output_type": "stream",
     "text": [
      "9 goes into 3, 0 times with a remainder of 3 \n"
     ]
    }
   ],
   "source": [
    "compute_remainder(3, 9)"
   ]
  },
  {
   "cell_type": "code",
   "execution_count": 117,
   "id": "identified-profession",
   "metadata": {},
   "outputs": [
    {
     "name": "stdout",
     "output_type": "stream",
     "text": [
      "3 goes into 9, 3 times with a remainder of 0 \n"
     ]
    }
   ],
   "source": [
    "compute_remainder(9, 3)"
   ]
  },
  {
   "cell_type": "code",
   "execution_count": 119,
   "id": "utility-dealer",
   "metadata": {},
   "outputs": [
    {
     "name": "stdout",
     "output_type": "stream",
     "text": [
      "3 goes into 10, 3 times with a remainder of 1 \n"
     ]
    }
   ],
   "source": [
    "compute_remainder(10, 3)"
   ]
  },
  {
   "cell_type": "code",
   "execution_count": 120,
   "id": "imported-replication",
   "metadata": {},
   "outputs": [],
   "source": [
    "def divisionWithInput():\n",
    "    \n",
    "    x = int( input(\"Input the numerator: \") )\n",
    "    y = int( input(\"Input the denominator: \") )\n",
    "    divis = int(x/y)\n",
    "    remainder = x%y\n",
    "    \n",
    "    print(f\"{y} goes into {x}, {int(divis)} times with a remainder of {remainder} \")"
   ]
  },
  {
   "cell_type": "code",
   "execution_count": 121,
   "id": "environmental-arabic",
   "metadata": {},
   "outputs": [
    {
     "name": "stdout",
     "output_type": "stream",
     "text": [
      "Input the numerator: 10\n",
      "Input the denominator: 3\n",
      "3 goes into 10, 3 times with a remainder of 1 \n"
     ]
    }
   ],
   "source": [
    "divisionWithInput()"
   ]
  },
  {
   "cell_type": "code",
   "execution_count": null,
   "id": "monthly-mouse",
   "metadata": {},
   "outputs": [],
   "source": []
  }
 ],
 "metadata": {
  "hide_input": false,
  "kernelspec": {
   "display_name": "Python 3",
   "language": "python",
   "name": "python3"
  },
  "language_info": {
   "codemirror_mode": {
    "name": "ipython",
    "version": 3
   },
   "file_extension": ".py",
   "mimetype": "text/x-python",
   "name": "python",
   "nbconvert_exporter": "python",
   "pygments_lexer": "ipython3",
   "version": "3.9.2"
  }
 },
 "nbformat": 4,
 "nbformat_minor": 5
}
