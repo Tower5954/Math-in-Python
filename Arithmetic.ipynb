{
 "cells": [
  {
   "cell_type": "code",
   "execution_count": 1,
   "id": "previous-flash",
   "metadata": {},
   "outputs": [],
   "source": [
    "from IPython.display import display, Math"
   ]
  },
  {
   "cell_type": "code",
   "execution_count": 2,
   "id": "divided-abraham",
   "metadata": {},
   "outputs": [
    {
     "data": {
      "text/plain": [
       "'4 + 3 = 7'"
      ]
     },
     "metadata": {},
     "output_type": "display_data"
    }
   ],
   "source": [
    "display('4 + 3 = 7')"
   ]
  },
  {
   "cell_type": "code",
   "execution_count": 3,
   "id": "alone-scheme",
   "metadata": {},
   "outputs": [
    {
     "data": {
      "text/plain": [
       "'4 + 3 = 7'"
      ]
     },
     "metadata": {},
     "output_type": "display_data"
    },
    {
     "data": {
      "text/plain": [
       "'7'"
      ]
     },
     "metadata": {},
     "output_type": "display_data"
    }
   ],
   "source": [
    "display('4 + 3 = 7', str(4+3))"
   ]
  },
  {
   "cell_type": "code",
   "execution_count": 4,
   "id": "sitting-adolescent",
   "metadata": {},
   "outputs": [
    {
     "data": {
      "text/plain": [
       "'4 + 3 = 7'"
      ]
     },
     "metadata": {},
     "output_type": "display_data"
    }
   ],
   "source": [
    "display('4 + 3 = ' + str(4+3))"
   ]
  },
  {
   "cell_type": "code",
   "execution_count": 5,
   "id": "italic-breakfast",
   "metadata": {},
   "outputs": [
    {
     "data": {
      "text/latex": [
       "$\\displaystyle 4 + 3 = 7$"
      ],
      "text/plain": [
       "<IPython.core.display.Math object>"
      ]
     },
     "metadata": {},
     "output_type": "display_data"
    }
   ],
   "source": [
    "display(Math('4 + 3 = 7'))"
   ]
  },
  {
   "cell_type": "code",
   "execution_count": 6,
   "id": "democratic-yellow",
   "metadata": {},
   "outputs": [
    {
     "data": {
      "text/latex": [
       "$\\displaystyle 4$"
      ],
      "text/plain": [
       "<IPython.core.display.Math object>"
      ]
     },
     "metadata": {},
     "output_type": "display_data"
    }
   ],
   "source": [
    "x = 4\n",
    "y = 5\n",
    "\n",
    "display(Math (str(x) ))"
   ]
  },
  {
   "cell_type": "code",
   "execution_count": 7,
   "id": "authorized-sucking",
   "metadata": {},
   "outputs": [
    {
     "data": {
      "text/latex": [
       "$\\displaystyle 45$"
      ],
      "text/plain": [
       "<IPython.core.display.Math object>"
      ]
     },
     "metadata": {},
     "output_type": "display_data"
    }
   ],
   "source": [
    "display(Math (str(x) + str(y) ))"
   ]
  },
  {
   "cell_type": "code",
   "execution_count": 8,
   "id": "moved-saskatchewan",
   "metadata": {},
   "outputs": [
    {
     "data": {
      "text/latex": [
       "$\\displaystyle 4+5$"
      ],
      "text/plain": [
       "<IPython.core.display.Math object>"
      ]
     },
     "metadata": {},
     "output_type": "display_data"
    }
   ],
   "source": [
    "display(Math (str(x) + '+' + str(y)))"
   ]
  },
  {
   "cell_type": "code",
   "execution_count": 9,
   "id": "former-norman",
   "metadata": {},
   "outputs": [
    {
     "data": {
      "text/latex": [
       "$\\displaystyle 4+5=9$"
      ],
      "text/plain": [
       "<IPython.core.display.Math object>"
      ]
     },
     "metadata": {},
     "output_type": "display_data"
    }
   ],
   "source": [
    "display(Math (str(x) + '+' + str(y) + '=' + str(x+y)))"
   ]
  },
  {
   "cell_type": "code",
   "execution_count": 10,
   "id": "solar-trade",
   "metadata": {},
   "outputs": [
    {
     "data": {
      "text/latex": [
       "$\\displaystyle 4+5 = 9$"
      ],
      "text/plain": [
       "<IPython.core.display.Math object>"
      ]
     },
     "metadata": {},
     "output_type": "display_data"
    }
   ],
   "source": [
    "display(Math( '%g+%g = %g' %(x,y,x+y)))"
   ]
  },
  {
   "cell_type": "code",
   "execution_count": 11,
   "id": "familiar-alberta",
   "metadata": {
    "scrolled": true
   },
   "outputs": [
    {
     "data": {
      "text/latex": [
       "$\\displaystyle \\frac {4}{5}$"
      ],
      "text/plain": [
       "<IPython.core.display.Math object>"
      ]
     },
     "metadata": {},
     "output_type": "display_data"
    }
   ],
   "source": [
    "display(Math( '\\\\frac {4}{5}'))"
   ]
  },
  {
   "cell_type": "code",
   "execution_count": 12,
   "id": "regular-chrome",
   "metadata": {},
   "outputs": [
    {
     "data": {
      "text/latex": [
       "$\\displaystyle \\frac {4}{5} = .8$"
      ],
      "text/plain": [
       "<IPython.core.display.Math object>"
      ]
     },
     "metadata": {},
     "output_type": "display_data"
    }
   ],
   "source": [
    "display(Math( '\\\\frac {4}{5} = .8'))"
   ]
  },
  {
   "cell_type": "code",
   "execution_count": 13,
   "id": "prostate-northeast",
   "metadata": {},
   "outputs": [
    {
     "data": {
      "text/latex": [
       "$\\displaystyle 3.4 \\times 17 = 57.8$"
      ],
      "text/plain": [
       "<IPython.core.display.Math object>"
      ]
     },
     "metadata": {},
     "output_type": "display_data"
    }
   ],
   "source": [
    "x = 3.4\n",
    "y = 17\n",
    "\n",
    "display(Math( '%g \\\\times %g = %g' %(x, y, x*y)))"
   ]
  },
  {
   "cell_type": "markdown",
   "id": "collect-functionality",
   "metadata": {},
   "source": [
    "**Exercise**"
   ]
  },
  {
   "cell_type": "code",
   "execution_count": 14,
   "id": "effective-grass",
   "metadata": {},
   "outputs": [],
   "source": [
    "x = 7\n",
    "y = -2\n",
    "z = 5\n"
   ]
  },
  {
   "cell_type": "code",
   "execution_count": 15,
   "id": "about-agency",
   "metadata": {},
   "outputs": [
    {
     "data": {
      "text/latex": [
       "$\\displaystyle 3x(4+y) = 42$"
      ],
      "text/plain": [
       "<IPython.core.display.Math object>"
      ]
     },
     "metadata": {},
     "output_type": "display_data"
    },
    {
     "data": {
      "text/latex": [
       "$\\displaystyle 3 \\times 7 (4 + -2) = 42$"
      ],
      "text/plain": [
       "<IPython.core.display.Math object>"
      ]
     },
     "metadata": {},
     "output_type": "display_data"
    }
   ],
   "source": [
    "display(Math( '3x(4+y) = 42'))\n",
    "display(Math( '3 \\\\times %g (4 + %g) = 42' %(x, y,)) )"
   ]
  },
  {
   "cell_type": "code",
   "execution_count": 16,
   "id": "increased-representation",
   "metadata": {},
   "outputs": [
    {
     "data": {
      "text/plain": [
       "42"
      ]
     },
     "execution_count": 16,
     "metadata": {},
     "output_type": "execute_result"
    }
   ],
   "source": [
    "ans = 3*x*(4+y)\n",
    "ans"
   ]
  },
  {
   "cell_type": "code",
   "execution_count": 17,
   "id": "flush-tennis",
   "metadata": {},
   "outputs": [
    {
     "data": {
      "text/latex": [
       "$\\displaystyle 3x(4+y) = 42$"
      ],
      "text/plain": [
       "<IPython.core.display.Math object>"
      ]
     },
     "metadata": {},
     "output_type": "display_data"
    }
   ],
   "source": [
    "display(Math( '3x(4+y) = %g' %ans))"
   ]
  },
  {
   "cell_type": "code",
   "execution_count": 18,
   "id": "solar-honolulu",
   "metadata": {},
   "outputs": [
    {
     "data": {
      "text/plain": [
       "0"
      ]
     },
     "execution_count": 18,
     "metadata": {},
     "output_type": "execute_result"
    }
   ],
   "source": [
    "new_ans = int( -y-(x+3)/z )\n",
    "new_ans"
   ]
  },
  {
   "cell_type": "code",
   "execution_count": 19,
   "id": "spatial-arena",
   "metadata": {},
   "outputs": [
    {
     "data": {
      "text/latex": [
       "$\\displaystyle -y- \\frac{x+3}{z} = 0$"
      ],
      "text/plain": [
       "<IPython.core.display.Math object>"
      ]
     },
     "metadata": {},
     "output_type": "display_data"
    }
   ],
   "source": [
    "display(Math( '-y- \\\\frac{x+3}{z} = %g' %new_ans))"
   ]
  },
  {
   "cell_type": "code",
   "execution_count": 20,
   "id": "demonstrated-piece",
   "metadata": {},
   "outputs": [
    {
     "data": {
      "text/latex": [
       "$\\displaystyle --2- \\frac{7 +3}{5} = 0$"
      ],
      "text/plain": [
       "<IPython.core.display.Math object>"
      ]
     },
     "metadata": {},
     "output_type": "display_data"
    }
   ],
   "source": [
    "display(Math( '-%g- \\\\frac{%g +3}{%g} = %g' %(y,x,z,new_ans)  ))"
   ]
  },
  {
   "cell_type": "markdown",
   "id": "convenient-indicator",
   "metadata": {},
   "source": [
    "## Exponents"
   ]
  },
  {
   "cell_type": "code",
   "execution_count": 21,
   "id": "alpine-representative",
   "metadata": {},
   "outputs": [
    {
     "data": {
      "text/plain": [
       "9"
      ]
     },
     "execution_count": 21,
     "metadata": {},
     "output_type": "execute_result"
    }
   ],
   "source": [
    "3**2"
   ]
  },
  {
   "cell_type": "code",
   "execution_count": 22,
   "id": "linear-circle",
   "metadata": {},
   "outputs": [
    {
     "data": {
      "text/plain": [
       "27"
      ]
     },
     "execution_count": 22,
     "metadata": {},
     "output_type": "execute_result"
    }
   ],
   "source": [
    "3**3"
   ]
  },
  {
   "cell_type": "code",
   "execution_count": 23,
   "id": "phantom-antibody",
   "metadata": {},
   "outputs": [
    {
     "data": {
      "text/plain": [
       "81"
      ]
     },
     "execution_count": 23,
     "metadata": {},
     "output_type": "execute_result"
    }
   ],
   "source": [
    "3**4"
   ]
  },
  {
   "cell_type": "code",
   "execution_count": 24,
   "id": "productive-china",
   "metadata": {},
   "outputs": [
    {
     "data": {
      "text/plain": [
       "9"
      ]
     },
     "execution_count": 24,
     "metadata": {},
     "output_type": "execute_result"
    }
   ],
   "source": [
    "x = 2\n",
    "3**x"
   ]
  },
  {
   "cell_type": "code",
   "execution_count": 25,
   "id": "consolidated-tourist",
   "metadata": {},
   "outputs": [
    {
     "name": "stdout",
     "output_type": "stream",
     "text": [
      "243\n",
      "243\n"
     ]
    }
   ],
   "source": [
    "print( 3**5)\n",
    "print( 3*3*3*3*3)"
   ]
  },
  {
   "cell_type": "code",
   "execution_count": 26,
   "id": "intensive-cambodia",
   "metadata": {},
   "outputs": [
    {
     "name": "stdout",
     "output_type": "stream",
     "text": [
      "729\n",
      "13\n",
      "729\n"
     ]
    }
   ],
   "source": [
    "print(3**(2+4))\n",
    "print(3**2+4)\n",
    "print(3**2 * 3**4)"
   ]
  },
  {
   "cell_type": "code",
   "execution_count": 27,
   "id": "pointed-jason",
   "metadata": {},
   "outputs": [
    {
     "data": {
      "text/plain": [
       "2.0"
      ]
     },
     "execution_count": 27,
     "metadata": {},
     "output_type": "execute_result"
    }
   ],
   "source": [
    "4**(1/2)"
   ]
  },
  {
   "cell_type": "code",
   "execution_count": 28,
   "id": "legal-short",
   "metadata": {},
   "outputs": [
    {
     "data": {
      "text/plain": [
       "4.5"
      ]
     },
     "execution_count": 28,
     "metadata": {},
     "output_type": "execute_result"
    }
   ],
   "source": [
    "9**1/2"
   ]
  },
  {
   "cell_type": "code",
   "execution_count": 29,
   "id": "healthy-california",
   "metadata": {},
   "outputs": [
    {
     "data": {
      "text/plain": [
       "3.0"
      ]
     },
     "execution_count": 29,
     "metadata": {},
     "output_type": "execute_result"
    }
   ],
   "source": [
    "9**(1/2)"
   ]
  },
  {
   "cell_type": "markdown",
   "id": "developmental-glass",
   "metadata": {},
   "source": [
    "### Latex"
   ]
  },
  {
   "cell_type": "code",
   "execution_count": 30,
   "id": "accepting-gothic",
   "metadata": {},
   "outputs": [
    {
     "data": {
      "text/latex": [
       "$\\displaystyle  1 + 2 = 3$"
      ],
      "text/plain": [
       "<IPython.core.display.Math object>"
      ]
     },
     "metadata": {},
     "output_type": "display_data"
    }
   ],
   "source": [
    "display(Math (' 1 + 2 = 3'))"
   ]
  },
  {
   "cell_type": "code",
   "execution_count": 31,
   "id": "coupled-robin",
   "metadata": {},
   "outputs": [
    {
     "data": {
      "text/latex": [
       "$\\displaystyle  3^2 = 9$"
      ],
      "text/plain": [
       "<IPython.core.display.Math object>"
      ]
     },
     "metadata": {},
     "output_type": "display_data"
    }
   ],
   "source": [
    "display(Math( ' 3^2 = 9'))"
   ]
  },
  {
   "cell_type": "code",
   "execution_count": 32,
   "id": "neutral-blink",
   "metadata": {},
   "outputs": [
    {
     "data": {
      "text/latex": [
       "$\\displaystyle  3^2 \\times 3^4 = 3^{2 + 4}$"
      ],
      "text/plain": [
       "<IPython.core.display.Math object>"
      ]
     },
     "metadata": {},
     "output_type": "display_data"
    }
   ],
   "source": [
    "display(Math (' 3^2 \\\\times 3^4 = 3^{2 + 4}'))"
   ]
  },
  {
   "cell_type": "markdown",
   "id": "premier-legislature",
   "metadata": {},
   "source": [
    "#### Exercise"
   ]
  },
  {
   "cell_type": "code",
   "execution_count": 33,
   "id": "focused-dinner",
   "metadata": {},
   "outputs": [],
   "source": [
    "x = 5\n",
    "y = 5.1"
   ]
  },
  {
   "cell_type": "code",
   "execution_count": 34,
   "id": "intelligent-basketball",
   "metadata": {},
   "outputs": [
    {
     "data": {
      "text/plain": [
       "3933.09"
      ]
     },
     "execution_count": 34,
     "metadata": {},
     "output_type": "execute_result"
    }
   ],
   "source": [
    "ans_1 = x**(3/4) * 4**y \n",
    "answer_1 = round(ans_1, 2)\n",
    "answer_1"
   ]
  },
  {
   "cell_type": "code",
   "execution_count": 35,
   "id": "written-funds",
   "metadata": {},
   "outputs": [
    {
     "data": {
      "text/latex": [
       "$\\displaystyle  x^{3 / 4} \\times 4^y = 3933.09$"
      ],
      "text/plain": [
       "<IPython.core.display.Math object>"
      ]
     },
     "metadata": {},
     "output_type": "display_data"
    }
   ],
   "source": [
    "display(Math(' x^{3 / 4} \\\\times 4^y = %g' %answer_1))"
   ]
  },
  {
   "cell_type": "code",
   "execution_count": 36,
   "id": "constitutional-snapshot",
   "metadata": {},
   "outputs": [
    {
     "data": {
      "text/plain": [
       "0.00735558"
      ]
     },
     "execution_count": 36,
     "metadata": {},
     "output_type": "execute_result"
    }
   ],
   "source": [
    "ans_2 = (3**3) / (x**y)\n",
    "answer_2 = round(ans_2, 8)\n",
    "answer_2"
   ]
  },
  {
   "cell_type": "code",
   "execution_count": 37,
   "id": "swedish-indication",
   "metadata": {},
   "outputs": [
    {
     "data": {
      "text/latex": [
       "$\\displaystyle  \\frac {3^3} {x^y} = 0.00735558$"
      ],
      "text/plain": [
       "<IPython.core.display.Math object>"
      ]
     },
     "metadata": {},
     "output_type": "display_data"
    }
   ],
   "source": [
    "display(Math(' \\\\frac {3^3} {x^y} = %g' %answer_2))"
   ]
  },
  {
   "cell_type": "code",
   "execution_count": 38,
   "id": "medium-opposition",
   "metadata": {},
   "outputs": [
    {
     "data": {
      "text/plain": [
       "10"
      ]
     },
     "execution_count": 38,
     "metadata": {},
     "output_type": "execute_result"
    }
   ],
   "source": [
    "ans_3 = 10**(x-4)\n",
    "ans_3"
   ]
  },
  {
   "cell_type": "code",
   "execution_count": 39,
   "id": "central-circuit",
   "metadata": {},
   "outputs": [
    {
     "data": {
      "text/latex": [
       "$\\displaystyle 10^{x-4} = 10$"
      ],
      "text/plain": [
       "<IPython.core.display.Math object>"
      ]
     },
     "metadata": {},
     "output_type": "display_data"
    }
   ],
   "source": [
    "display(Math ('10^{x-4} = %g' %ans_3))"
   ]
  },
  {
   "cell_type": "markdown",
   "id": "excess-powell",
   "metadata": {},
   "source": [
    "## Using for Loops to compute powers"
   ]
  },
  {
   "cell_type": "code",
   "execution_count": 40,
   "id": "insured-proceeding",
   "metadata": {},
   "outputs": [
    {
     "name": "stdout",
     "output_type": "stream",
     "text": [
      "0\n",
      "1\n",
      "2\n",
      "3\n"
     ]
    }
   ],
   "source": [
    "for i in [0, 1, 2, 3]:\n",
    "    print(i)"
   ]
  },
  {
   "cell_type": "code",
   "execution_count": 41,
   "id": "meaning-blind",
   "metadata": {},
   "outputs": [
    {
     "name": "stdout",
     "output_type": "stream",
     "text": [
      "1\n",
      "3\n",
      "9\n",
      "27\n"
     ]
    }
   ],
   "source": [
    "for i in [0, 1, 2, 3]:\n",
    "    print(3**i)"
   ]
  },
  {
   "cell_type": "code",
   "execution_count": 42,
   "id": "foster-speaker",
   "metadata": {},
   "outputs": [
    {
     "name": "stdout",
     "output_type": "stream",
     "text": [
      "This is the 0th iteration\n",
      "This is the 1th iteration\n",
      "This is the 2th iteration\n"
     ]
    }
   ],
   "source": [
    "for qwerty in range(0,3):\n",
    "    print('This is the %gth iteration' %qwerty)"
   ]
  },
  {
   "cell_type": "code",
   "execution_count": 43,
   "id": "special-funeral",
   "metadata": {},
   "outputs": [
    {
     "name": "stdout",
     "output_type": "stream",
     "text": [
      "This is the 0th iteration\n",
      "This is the 1th iteration\n",
      "This is the 2th iteration\n"
     ]
    }
   ],
   "source": [
    "for qwerty in range(0,3):\n",
    "    print(f'This is the {qwerty}th iteration' )"
   ]
  },
  {
   "cell_type": "code",
   "execution_count": 44,
   "id": "worldwide-integral",
   "metadata": {},
   "outputs": [
    {
     "name": "stdout",
     "output_type": "stream",
     "text": [
      "0\n",
      "1\n",
      "4\n",
      "9\n",
      "16\n"
     ]
    }
   ],
   "source": [
    "for t in range(0,5):\n",
    "    num = t**2\n",
    "    print(num)"
   ]
  },
  {
   "cell_type": "markdown",
   "id": "going-three",
   "metadata": {},
   "source": [
    "#### Exercise."
   ]
  },
  {
   "cell_type": "code",
   "execution_count": 45,
   "id": "biblical-projection",
   "metadata": {},
   "outputs": [
    {
     "name": "stdout",
     "output_type": "stream",
     "text": [
      "2 to the power of 0 is 1\n",
      "2 to the power of 1 is 2\n",
      "2 to the power of 2 is 4\n",
      "2 to the power of 3 is 8\n",
      "2 to the power of 4 is 16\n",
      "2 to the power of 5 is 32\n",
      "2 to the power of 6 is 64\n",
      "2 to the power of 7 is 128\n",
      "2 to the power of 8 is 256\n",
      "2 to the power of 9 is 512\n"
     ]
    }
   ],
   "source": [
    "for t in range(0,10):\n",
    "    print(f'2 to the power of {t} is {2**t}')"
   ]
  },
  {
   "cell_type": "code",
   "execution_count": 46,
   "id": "natural-helping",
   "metadata": {},
   "outputs": [
    {
     "name": "stdout",
     "output_type": "stream",
     "text": [
      "2 to the power of 0 is 1 \n",
      "2 to the power of 1 is 2 \n",
      "2 to the power of 2 is 4 \n",
      "2 to the power of 3 is 8 \n",
      "2 to the power of 4 is 16 \n",
      "2 to the power of 5 is 32 \n",
      "2 to the power of 6 is 64 \n",
      "2 to the power of 7 is 128 \n",
      "2 to the power of 8 is 256 \n",
      "2 to the power of 9 is 512 \n"
     ]
    }
   ],
   "source": [
    "base = 2\n",
    "\n",
    "for i in range(0,10):\n",
    "    print(f'{base} to the power of {i} is {base**i} ')"
   ]
  },
  {
   "cell_type": "code",
   "execution_count": 47,
   "id": "thousand-twins",
   "metadata": {},
   "outputs": [
    {
     "name": "stdout",
     "output_type": "stream",
     "text": [
      "2 to the power of 0 is 1\n",
      "2 to the power of 1 is 2\n",
      "2 to the power of 2 is 4\n",
      "2 to the power of 3 is 8\n",
      "2 to the power of 4 is 16\n",
      "2 to the power of 5 is 32\n",
      "2 to the power of 6 is 64\n",
      "2 to the power of 7 is 128\n",
      "2 to the power of 8 is 256\n",
      "2 to the power of 9 is 512\n"
     ]
    }
   ],
   "source": [
    "base = 2\n",
    "\n",
    "for b in range(0, 10):\n",
    "    print('%g to the power of %g is %g' %(base, b, base**b))"
   ]
  },
  {
   "cell_type": "code",
   "execution_count": 48,
   "id": "english-leader",
   "metadata": {},
   "outputs": [
    {
     "name": "stdout",
     "output_type": "stream",
     "text": [
      "59 to the power of 0 is 1\n",
      "59 to the power of 1 is 59\n",
      "59 to the power of 2 is 3481\n",
      "59 to the power of 3 is 205379\n",
      "59 to the power of 4 is 1.21174e+07\n",
      "59 to the power of 5 is 7.14924e+08\n",
      "59 to the power of 6 is 4.21805e+10\n",
      "59 to the power of 7 is 2.48865e+12\n",
      "59 to the power of 8 is 1.4683e+14\n",
      "59 to the power of 9 is 8.663e+15\n"
     ]
    }
   ],
   "source": [
    "base = 59\n",
    "\n",
    "for b in range(0, 10):\n",
    "    print('%g to the power of %g is %g' %(base, b, base**b))"
   ]
  },
  {
   "cell_type": "markdown",
   "id": "worth-mileage",
   "metadata": {},
   "source": [
    "## Testing Inequalities and boolean data type"
   ]
  },
  {
   "cell_type": "code",
   "execution_count": 49,
   "id": "disciplinary-hacker",
   "metadata": {},
   "outputs": [
    {
     "data": {
      "text/plain": [
       "True"
      ]
     },
     "execution_count": 49,
     "metadata": {},
     "output_type": "execute_result"
    }
   ],
   "source": [
    "b = 10 > 3*3\n",
    "b"
   ]
  },
  {
   "cell_type": "code",
   "execution_count": 50,
   "id": "level-energy",
   "metadata": {},
   "outputs": [
    {
     "name": "stdout",
     "output_type": "stream",
     "text": [
      "<class 'bool'>\n"
     ]
    }
   ],
   "source": [
    "print(type(b))"
   ]
  },
  {
   "cell_type": "code",
   "execution_count": 51,
   "id": "owned-province",
   "metadata": {},
   "outputs": [
    {
     "data": {
      "text/plain": [
       "False"
      ]
     },
     "execution_count": 51,
     "metadata": {},
     "output_type": "execute_result"
    }
   ],
   "source": [
    "c = 10 < 3*3\n",
    "c"
   ]
  },
  {
   "cell_type": "code",
   "execution_count": 52,
   "id": "computational-customs",
   "metadata": {},
   "outputs": [
    {
     "name": "stdout",
     "output_type": "stream",
     "text": [
      "<class 'bool'>\n"
     ]
    }
   ],
   "source": [
    "print(type(c))"
   ]
  },
  {
   "cell_type": "code",
   "execution_count": 53,
   "id": "moved-liquid",
   "metadata": {},
   "outputs": [
    {
     "data": {
      "text/plain": [
       "False"
      ]
     },
     "execution_count": 53,
     "metadata": {},
     "output_type": "execute_result"
    }
   ],
   "source": [
    "d = 10 > 10\n",
    "d"
   ]
  },
  {
   "cell_type": "markdown",
   "id": "educated-census",
   "metadata": {},
   "source": [
    "#### Less than or equal. "
   ]
  },
  {
   "cell_type": "code",
   "execution_count": 54,
   "id": "charged-system",
   "metadata": {},
   "outputs": [
    {
     "data": {
      "text/plain": [
       "True"
      ]
     },
     "execution_count": 54,
     "metadata": {},
     "output_type": "execute_result"
    }
   ],
   "source": [
    "4 >= 2+2"
   ]
  },
  {
   "cell_type": "code",
   "execution_count": 55,
   "id": "skilled-diabetes",
   "metadata": {},
   "outputs": [
    {
     "data": {
      "text/plain": [
       "False"
      ]
     },
     "execution_count": 55,
     "metadata": {},
     "output_type": "execute_result"
    }
   ],
   "source": [
    "2 >= 3"
   ]
  },
  {
   "cell_type": "code",
   "execution_count": 56,
   "id": "designed-allah",
   "metadata": {},
   "outputs": [
    {
     "data": {
      "text/plain": [
       "True"
      ]
     },
     "execution_count": 56,
     "metadata": {},
     "output_type": "execute_result"
    }
   ],
   "source": [
    "15 <= 89"
   ]
  },
  {
   "cell_type": "code",
   "execution_count": 57,
   "id": "manual-indication",
   "metadata": {},
   "outputs": [
    {
     "data": {
      "text/plain": [
       "True"
      ]
     },
     "execution_count": 57,
     "metadata": {},
     "output_type": "execute_result"
    }
   ],
   "source": [
    "4 == 2 + 2"
   ]
  },
  {
   "cell_type": "code",
   "execution_count": 58,
   "id": "exotic-fields",
   "metadata": {},
   "outputs": [
    {
     "data": {
      "text/plain": [
       "True"
      ]
     },
     "execution_count": 58,
     "metadata": {},
     "output_type": "execute_result"
    }
   ],
   "source": [
    "27 == 3**3"
   ]
  },
  {
   "cell_type": "markdown",
   "id": "sonic-budget",
   "metadata": {},
   "source": [
    "### Exercise."
   ]
  },
  {
   "cell_type": "code",
   "execution_count": 59,
   "id": "opposed-smart",
   "metadata": {},
   "outputs": [],
   "source": [
    "equation_one = 4 * x + 3 < 17 - x**2\n",
    "equation_two = 8 * x - 2 <= -3 * x + 42"
   ]
  },
  {
   "cell_type": "code",
   "execution_count": 60,
   "id": "informal-light",
   "metadata": {},
   "outputs": [
    {
     "name": "stdout",
     "output_type": "stream",
     "text": [
      "False\n",
      "False\n",
      "False\n",
      "False\n",
      "False\n",
      "False\n"
     ]
    }
   ],
   "source": [
    "for i in range(2,5):\n",
    "    x = i\n",
    "    print(equation_one)\n",
    "    print(equation_two)"
   ]
  },
  {
   "cell_type": "code",
   "execution_count": 61,
   "id": "peripheral-village",
   "metadata": {},
   "outputs": [
    {
     "data": {
      "text/plain": [
       "False"
      ]
     },
     "execution_count": 61,
     "metadata": {},
     "output_type": "execute_result"
    }
   ],
   "source": [
    "4 * 3 + 3 < 17 - 9"
   ]
  },
  {
   "cell_type": "code",
   "execution_count": 62,
   "id": "impossible-handling",
   "metadata": {},
   "outputs": [
    {
     "data": {
      "text/plain": [
       "False"
      ]
     },
     "execution_count": 62,
     "metadata": {},
     "output_type": "execute_result"
    }
   ],
   "source": [
    "x = 2\n",
    "equation_one"
   ]
  },
  {
   "cell_type": "code",
   "execution_count": 63,
   "id": "assigned-cooling",
   "metadata": {},
   "outputs": [
    {
     "name": "stdout",
     "output_type": "stream",
     "text": [
      "True\n",
      "False\n",
      "False\n"
     ]
    }
   ],
   "source": [
    "for i in range(2,5):\n",
    "    print(4 * i + 3 < 17 - x**2)"
   ]
  },
  {
   "cell_type": "code",
   "execution_count": 64,
   "id": "pleased-monster",
   "metadata": {},
   "outputs": [
    {
     "name": "stdout",
     "output_type": "stream",
     "text": [
      "True\n",
      "True\n",
      "True\n"
     ]
    }
   ],
   "source": [
    "for j in range(2,5):\n",
    "    print(8 * j - 2 <= -3 * j + 42)"
   ]
  },
  {
   "cell_type": "markdown",
   "id": "bridal-canberra",
   "metadata": {},
   "source": [
    "## Using if-statements and logical operators "
   ]
  },
  {
   "cell_type": "code",
   "execution_count": 65,
   "id": "strange-bangkok",
   "metadata": {},
   "outputs": [
    {
     "name": "stdout",
     "output_type": "stream",
     "text": [
      "true\n"
     ]
    }
   ],
   "source": [
    "if 4+2 == 6:\n",
    "    print('true')\n"
   ]
  },
  {
   "cell_type": "code",
   "execution_count": 66,
   "id": "weighted-surveillance",
   "metadata": {},
   "outputs": [
    {
     "name": "stdout",
     "output_type": "stream",
     "text": [
      "not true\n"
     ]
    }
   ],
   "source": [
    "if 4+2 == 7:\n",
    "    print('true')\n",
    "else:\n",
    "    print('not true')"
   ]
  },
  {
   "cell_type": "code",
   "execution_count": 67,
   "id": "separate-diploma",
   "metadata": {},
   "outputs": [
    {
     "name": "stdout",
     "output_type": "stream",
     "text": [
      "not 8 but 6\n"
     ]
    }
   ],
   "source": [
    "if 4+2 == 8:\n",
    "    print('true')\n",
    "elif 4+2 == 6:\n",
    "    print('not 8 but 6')\n",
    "else:\n",
    "    ('nope, untrue')"
   ]
  },
  {
   "cell_type": "code",
   "execution_count": 68,
   "id": "engaged-comparison",
   "metadata": {},
   "outputs": [
    {
     "name": "stdout",
     "output_type": "stream",
     "text": [
      "5 is greater than 4\n"
     ]
    }
   ],
   "source": [
    "x1 = 5\n",
    "x2 = 4\n",
    "\n",
    "if x1 > x2:\n",
    "    print('%g is greater than %g' %(x1,x2))\n",
    "else:\n",
    "    print('Nope, untrue')"
   ]
  },
  {
   "cell_type": "markdown",
   "id": "engaged-aerospace",
   "metadata": {},
   "source": [
    "#### Exercise"
   ]
  },
  {
   "cell_type": "code",
   "execution_count": 69,
   "id": "indoor-surgery",
   "metadata": {},
   "outputs": [
    {
     "data": {
      "text/latex": [
       "$\\displaystyle 1 ^{-1} = 1$"
      ],
      "text/plain": [
       "<IPython.core.display.Math object>"
      ]
     },
     "metadata": {},
     "output_type": "display_data"
    },
    {
     "data": {
      "text/latex": [
       "$\\displaystyle 1 ^{-2} = 1$"
      ],
      "text/plain": [
       "<IPython.core.display.Math object>"
      ]
     },
     "metadata": {},
     "output_type": "display_data"
    },
    {
     "data": {
      "text/latex": [
       "$\\displaystyle 1 ^{-3} = 1$"
      ],
      "text/plain": [
       "<IPython.core.display.Math object>"
      ]
     },
     "metadata": {},
     "output_type": "display_data"
    },
    {
     "data": {
      "text/latex": [
       "$\\displaystyle 1 ^{-4} = 1$"
      ],
      "text/plain": [
       "<IPython.core.display.Math object>"
      ]
     },
     "metadata": {},
     "output_type": "display_data"
    },
    {
     "data": {
      "text/latex": [
       "$\\displaystyle 2 ^{-1} = 0.5$"
      ],
      "text/plain": [
       "<IPython.core.display.Math object>"
      ]
     },
     "metadata": {},
     "output_type": "display_data"
    },
    {
     "data": {
      "text/latex": [
       "$\\displaystyle 2 ^{-2} = 0.25$"
      ],
      "text/plain": [
       "<IPython.core.display.Math object>"
      ]
     },
     "metadata": {},
     "output_type": "display_data"
    },
    {
     "data": {
      "text/latex": [
       "$\\displaystyle 2 ^{-3} = 0.125$"
      ],
      "text/plain": [
       "<IPython.core.display.Math object>"
      ]
     },
     "metadata": {},
     "output_type": "display_data"
    },
    {
     "data": {
      "text/latex": [
       "$\\displaystyle 2 ^{-4} = 0.0625$"
      ],
      "text/plain": [
       "<IPython.core.display.Math object>"
      ]
     },
     "metadata": {},
     "output_type": "display_data"
    },
    {
     "data": {
      "text/latex": [
       "$\\displaystyle 3 ^{-1} = 0.333333$"
      ],
      "text/plain": [
       "<IPython.core.display.Math object>"
      ]
     },
     "metadata": {},
     "output_type": "display_data"
    },
    {
     "data": {
      "text/latex": [
       "$\\displaystyle 3 ^{-2} = 0.111111$"
      ],
      "text/plain": [
       "<IPython.core.display.Math object>"
      ]
     },
     "metadata": {},
     "output_type": "display_data"
    },
    {
     "data": {
      "text/latex": [
       "$\\displaystyle 3 ^{-3} = 0.037037$"
      ],
      "text/plain": [
       "<IPython.core.display.Math object>"
      ]
     },
     "metadata": {},
     "output_type": "display_data"
    },
    {
     "data": {
      "text/latex": [
       "$\\displaystyle 3 ^{-4} = 0.0123457$"
      ],
      "text/plain": [
       "<IPython.core.display.Math object>"
      ]
     },
     "metadata": {},
     "output_type": "display_data"
    }
   ],
   "source": [
    "for i in range(0,4):\n",
    "    for j in range(0,5):\n",
    "        if i > 0 and j > 0:\n",
    "#             print(f'{i}^{-j} = {i**-j}')\n",
    "            display(Math('%g ^{-%g} = %g' %(i,j,i**-j)))"
   ]
  },
  {
   "cell_type": "markdown",
   "id": "immediate-anthony",
   "metadata": {},
   "source": [
    "## Absolute value"
   ]
  },
  {
   "cell_type": "markdown",
   "id": "liable-enough",
   "metadata": {},
   "source": [
    "Notation: abs(x) or |x|"
   ]
  },
  {
   "cell_type": "code",
   "execution_count": 70,
   "id": "downtown-ground",
   "metadata": {},
   "outputs": [
    {
     "data": {
      "text/plain": [
       "4"
      ]
     },
     "execution_count": 70,
     "metadata": {},
     "output_type": "execute_result"
    }
   ],
   "source": [
    "abs(4)"
   ]
  },
  {
   "cell_type": "code",
   "execution_count": 71,
   "id": "changing-teens",
   "metadata": {},
   "outputs": [
    {
     "data": {
      "text/plain": [
       "4"
      ]
     },
     "execution_count": 71,
     "metadata": {},
     "output_type": "execute_result"
    }
   ],
   "source": [
    "abs(-4)"
   ]
  },
  {
   "cell_type": "code",
   "execution_count": 72,
   "id": "executive-recording",
   "metadata": {},
   "outputs": [
    {
     "data": {
      "text/plain": [
       "4"
      ]
     },
     "execution_count": 72,
     "metadata": {},
     "output_type": "execute_result"
    }
   ],
   "source": [
    "a = 4\n",
    "abs(a)"
   ]
  },
  {
   "cell_type": "code",
   "execution_count": 73,
   "id": "typical-scotland",
   "metadata": {},
   "outputs": [
    {
     "data": {
      "text/plain": [
       "(-4, 4)"
      ]
     },
     "execution_count": 73,
     "metadata": {},
     "output_type": "execute_result"
    }
   ],
   "source": [
    "a = -4\n",
    "b = abs(4)\n",
    "\n",
    "a,b"
   ]
  },
  {
   "cell_type": "code",
   "execution_count": 74,
   "id": "democratic-secret",
   "metadata": {},
   "outputs": [
    {
     "data": {
      "text/latex": [
       "$\\displaystyle | -4.3 | = 4.3$"
      ],
      "text/plain": [
       "<IPython.core.display.Math object>"
      ]
     },
     "metadata": {},
     "output_type": "display_data"
    }
   ],
   "source": [
    "x = -4.3\n",
    "\n",
    "display(Math( '| %g | = %g' %(x, abs(x))))"
   ]
  },
  {
   "cell_type": "markdown",
   "id": "twelve-mexico",
   "metadata": {},
   "source": [
    "### Exercise."
   ]
  },
  {
   "cell_type": "code",
   "execution_count": 75,
   "id": "focal-preservation",
   "metadata": {},
   "outputs": [
    {
     "name": "stdout",
     "output_type": "stream",
     "text": [
      "-4 was not tested. Absolute value of -4 is 4\n",
      "Absolute value of 6 is 6\n",
      "-1 was not tested. Absolute value of -1 is 1\n",
      "Absolute value of 43 is 43\n",
      "Absolute value of -18 is 18\n",
      "2 was not tested. Absolute value of 2 is 2\n",
      "0 was not tested. Absolute value of 0 is 0\n"
     ]
    }
   ],
   "source": [
    "num_set = [-4, 6, -1, 43, -18, 2, 0]\n",
    "\n",
    "for i in num_set:\n",
    "    if i < -5 or i > 2:\n",
    "        print( 'Absolute value of %g is %g' %(i, abs(i) ))\n",
    "    else:\n",
    "        print( str(i) + ' was not tested. Absolute value of %g is %g' %( i, abs(i) ))"
   ]
  },
  {
   "cell_type": "markdown",
   "id": "gentle-crowd",
   "metadata": {},
   "source": [
    "## Remainder after division (modulus)"
   ]
  },
  {
   "cell_type": "markdown",
   "id": "speaking-endorsement",
   "metadata": {},
   "source": [
    "10 / 3 = 3 with a remainder 1 *This remainder is called the* **modulus**"
   ]
  },
  {
   "cell_type": "code",
   "execution_count": 76,
   "id": "criminal-assist",
   "metadata": {},
   "outputs": [
    {
     "data": {
      "text/plain": [
       "3"
      ]
     },
     "execution_count": 76,
     "metadata": {},
     "output_type": "execute_result"
    }
   ],
   "source": [
    "a = 10\n",
    "b = 3\n",
    "\n",
    "# Integer division\n",
    "int(a/b)\n"
   ]
  },
  {
   "cell_type": "markdown",
   "id": "junior-button",
   "metadata": {},
   "source": [
    "To call the help function press `shift` and `tab` on the function"
   ]
  },
  {
   "cell_type": "code",
   "execution_count": 77,
   "id": "vietnamese-behalf",
   "metadata": {},
   "outputs": [
    {
     "data": {
      "text/plain": [
       "1"
      ]
     },
     "execution_count": 77,
     "metadata": {},
     "output_type": "execute_result"
    }
   ],
   "source": [
    "# modulus\n",
    "a%b"
   ]
  },
  {
   "cell_type": "code",
   "execution_count": 78,
   "id": "radio-henry",
   "metadata": {},
   "outputs": [
    {
     "name": "stdout",
     "output_type": "stream",
     "text": [
      "3354547 goes into 93774858595, 27954 times with a remainder of 1851757 \n",
      "3.35455e+06 goes into 9.37749e+10, 27954 times with a remainder of 1.85176e+06 \n"
     ]
    }
   ],
   "source": [
    "a = 93774858595\n",
    "b = 3354547\n",
    "\n",
    "divis = a/b\n",
    "remainder = a%b\n",
    "\n",
    "print(f\"{b} goes into {a}, {int(divis)} times with a remainder of {remainder} \")\n",
    "print(\"%g goes into %g, %g times with a remainder of %g \" %(b,a,int(divis), remainder))"
   ]
  },
  {
   "cell_type": "markdown",
   "id": "affecting-series",
   "metadata": {},
   "source": [
    "### Exercise."
   ]
  },
  {
   "cell_type": "code",
   "execution_count": 79,
   "id": "injured-davis",
   "metadata": {},
   "outputs": [
    {
     "name": "stdout",
     "output_type": "stream",
     "text": [
      "-5 is an odd number.\n",
      "-4 is an even number.\n",
      "-3 is an odd number.\n",
      "-2 is an even number.\n",
      "-1 is an odd number.\n",
      "0 is an even number.\n",
      "1 is an odd number.\n",
      "2 is an even number.\n",
      "3 is an odd number.\n",
      "4 is an even number.\n",
      "5 is an odd number.\n"
     ]
    }
   ],
   "source": [
    "numbers = [-5, -4, -3, -2, -1, 0, 1, 2, 3, 4, 5]\n",
    "\n",
    "for i in numbers:\n",
    "    if i % 2 == 0:\n",
    "        print(f\"{i} is an even number.\")\n",
    "    else:\n",
    "        print(f\"{i} is an odd number.\")"
   ]
  },
  {
   "cell_type": "code",
   "execution_count": 80,
   "id": "concrete-cooperative",
   "metadata": {},
   "outputs": [
    {
     "name": "stdout",
     "output_type": "stream",
     "text": [
      "-5 is an odd  number\n",
      "-4 is an even number.\n",
      "-3 is an odd  number\n",
      "-2 is an even number.\n",
      "-1 is an odd  number\n",
      " 0 is an even number.\n",
      " 1 is an odd  number.\n",
      " 2 is an even number.\n",
      " 3 is an odd  number.\n",
      " 4 is an even number.\n",
      " 5 is an odd  number.\n"
     ]
    }
   ],
   "source": [
    "numbers = [-5, -4, -3, -2, -1, 0, 1, 2, 3, 4, 5]\n",
    "\n",
    "for i in numbers:\n",
    "    if i % 2 == 0 and i > 0.1:\n",
    "        print(f\" {i} is an even number.\")\n",
    "    elif i % 2 == 0 and i < 0:\n",
    "        print(f\"{i} is an even number.\")\n",
    "    elif i == 0:\n",
    "        print(f\" {i} is an even number.\")\n",
    "    elif i % 2 != 0 and i > 0:\n",
    "        print(f\" {i} is an odd  number.\")\n",
    "    else:\n",
    "        print(f\"{i} is an odd  number\")"
   ]
  },
  {
   "cell_type": "code",
   "execution_count": 81,
   "id": "perfect-delta",
   "metadata": {},
   "outputs": [
    {
     "name": "stdout",
     "output_type": "stream",
     "text": [
      "-5 is an odd  number\n",
      "-4 is an even number\n",
      "-3 is an odd  number\n",
      "-2 is an even number\n",
      "-1 is an odd  number\n",
      " 0 is an even number\n",
      " 1 is an odd  number\n",
      " 2 is an even number\n",
      " 3 is an odd  number\n",
      " 4 is an even number\n",
      " 5 is an odd  number\n"
     ]
    }
   ],
   "source": [
    "nums = range(-5, 6)\n",
    "\n",
    "for i in nums:\n",
    "    firstchar = ' '\n",
    "    if  i < 0:\n",
    "        firstchar = ''\n",
    "        \n",
    "    if i % 2 == 0 :\n",
    "        print('%s%g is an even number' %(firstchar, i))\n",
    "        \n",
    "    else:\n",
    "        print('%s%G is an odd  number' %(firstchar, i))"
   ]
  },
  {
   "cell_type": "markdown",
   "id": "decent-absence",
   "metadata": {},
   "source": [
    "## Create interactive math functions"
   ]
  },
  {
   "cell_type": "code",
   "execution_count": 82,
   "id": "unlikely-liberal",
   "metadata": {},
   "outputs": [],
   "source": [
    "def myfunction():\n",
    "    print('Hello World.')"
   ]
  },
  {
   "cell_type": "code",
   "execution_count": 83,
   "id": "beautiful-specific",
   "metadata": {},
   "outputs": [
    {
     "data": {
      "text/plain": [
       "<function __main__.myfunction()>"
      ]
     },
     "execution_count": 83,
     "metadata": {},
     "output_type": "execute_result"
    }
   ],
   "source": [
    "myfunction"
   ]
  },
  {
   "cell_type": "code",
   "execution_count": 84,
   "id": "split-ownership",
   "metadata": {},
   "outputs": [
    {
     "name": "stdout",
     "output_type": "stream",
     "text": [
      "Hello World.\n"
     ]
    }
   ],
   "source": [
    "myfunction()"
   ]
  },
  {
   "cell_type": "code",
   "execution_count": 85,
   "id": "union-house",
   "metadata": {},
   "outputs": [],
   "source": [
    "def myfunc(name):\n",
    "    print('Hello %s' %name)"
   ]
  },
  {
   "cell_type": "code",
   "execution_count": 86,
   "id": "ahead-functionality",
   "metadata": {},
   "outputs": [
    {
     "name": "stdout",
     "output_type": "stream",
     "text": [
      "Hello Grant\n"
     ]
    }
   ],
   "source": [
    "myfunc('Grant')"
   ]
  },
  {
   "cell_type": "code",
   "execution_count": 87,
   "id": "wrapped-edwards",
   "metadata": {},
   "outputs": [],
   "source": [
    "def compute_remainder(x,y):\n",
    "    divis = int(x/y)\n",
    "    remainder = x%y\n",
    "    \n",
    "    print(f\"{y} goes into {x}, {int(divis)} times with a remainder of {remainder} \")"
   ]
  },
  {
   "cell_type": "code",
   "execution_count": 88,
   "id": "industrial-chapter",
   "metadata": {},
   "outputs": [
    {
     "name": "stdout",
     "output_type": "stream",
     "text": [
      "9 goes into 3, 0 times with a remainder of 3 \n"
     ]
    }
   ],
   "source": [
    "compute_remainder(3, 9)"
   ]
  },
  {
   "cell_type": "code",
   "execution_count": 89,
   "id": "identified-profession",
   "metadata": {},
   "outputs": [
    {
     "name": "stdout",
     "output_type": "stream",
     "text": [
      "3 goes into 9, 3 times with a remainder of 0 \n"
     ]
    }
   ],
   "source": [
    "compute_remainder(9, 3)"
   ]
  },
  {
   "cell_type": "code",
   "execution_count": 90,
   "id": "utility-dealer",
   "metadata": {},
   "outputs": [
    {
     "name": "stdout",
     "output_type": "stream",
     "text": [
      "3 goes into 10, 3 times with a remainder of 1 \n"
     ]
    }
   ],
   "source": [
    "compute_remainder(10, 3)"
   ]
  },
  {
   "cell_type": "code",
   "execution_count": 91,
   "id": "imported-replication",
   "metadata": {},
   "outputs": [],
   "source": [
    "def divisionWithInput():\n",
    "    \n",
    "    x = int( input(\"Input the numerator: \") )\n",
    "    y = int( input(\"Input the denominator: \") )\n",
    "    divis = int(x/y)\n",
    "    remainder = x%y\n",
    "    \n",
    "    print(f\"{y} goes into {x}, {int(divis)} times with a remainder of {remainder} \")"
   ]
  },
  {
   "cell_type": "code",
   "execution_count": 92,
   "id": "environmental-arabic",
   "metadata": {},
   "outputs": [
    {
     "name": "stdout",
     "output_type": "stream",
     "text": [
      "Input the numerator: 2\n",
      "Input the denominator: 2\n",
      "2 goes into 2, 1 times with a remainder of 0 \n"
     ]
    }
   ],
   "source": [
    "divisionWithInput()"
   ]
  },
  {
   "cell_type": "markdown",
   "id": "piano-snowboard",
   "metadata": {},
   "source": [
    "## Part 2"
   ]
  },
  {
   "cell_type": "code",
   "execution_count": 93,
   "id": "atmospheric-british",
   "metadata": {},
   "outputs": [],
   "source": [
    "def exponent(x, y):\n",
    "    \n",
    "    display(Math(\"%g ^ %g = %g\" %(x, y, x**y) ))"
   ]
  },
  {
   "cell_type": "code",
   "execution_count": 94,
   "id": "norman-bernard",
   "metadata": {},
   "outputs": [],
   "source": [
    "def division(x, y):\n",
    "    \n",
    "     display(Math (\"\\\\frac{%g}{%g} = %g\" %(x, y, x/y))  )\n",
    "    \n",
    "    \n",
    "    "
   ]
  },
  {
   "cell_type": "code",
   "execution_count": 95,
   "id": "revised-singapore",
   "metadata": {},
   "outputs": [],
   "source": [
    "def two_functions():\n",
    "    \n",
    "    x = int( input(\"Input X: \") )\n",
    "    y = int( input(\"Input Y: \") )\n",
    "    \n",
    "    display(Math(\"\\\\text{Press '1' to compute } %g^{%g} \\\\text{ or '2' to compute } \\\\frac{%g}{%g} \" %(x, y, x, y)))\n",
    "    choice = input(' ')\n",
    "    \n",
    "    if int(choice) == 1:\n",
    "        exponent(x, y)\n",
    "    elif int(choice) == 2:\n",
    "        division(x, y)\n",
    "    else:\n",
    "        print(\"Invalid selection!\")"
   ]
  },
  {
   "cell_type": "code",
   "execution_count": 96,
   "id": "trying-subcommittee",
   "metadata": {},
   "outputs": [
    {
     "name": "stdout",
     "output_type": "stream",
     "text": [
      "Input X: 2\n",
      "Input Y: 2\n"
     ]
    },
    {
     "data": {
      "text/latex": [
       "$\\displaystyle \\text{Press '1' to compute } 2^{2} \\text{ or '2' to compute } \\frac{2}{2} $"
      ],
      "text/plain": [
       "<IPython.core.display.Math object>"
      ]
     },
     "metadata": {},
     "output_type": "display_data"
    },
    {
     "name": "stdout",
     "output_type": "stream",
     "text": [
      " 2\n"
     ]
    },
    {
     "data": {
      "text/latex": [
       "$\\displaystyle \\frac{2}{2} = 1$"
      ],
      "text/plain": [
       "<IPython.core.display.Math object>"
      ]
     },
     "metadata": {},
     "output_type": "display_data"
    }
   ],
   "source": [
    "two_functions()"
   ]
  },
  {
   "cell_type": "markdown",
   "id": "extensive-edmonton",
   "metadata": {},
   "source": [
    "## Part 3"
   ]
  },
  {
   "cell_type": "code",
   "execution_count": 97,
   "id": "expected-carter",
   "metadata": {},
   "outputs": [],
   "source": [
    "from numpy import random"
   ]
  },
  {
   "cell_type": "code",
   "execution_count": 106,
   "id": "simple-timothy",
   "metadata": {},
   "outputs": [],
   "source": [
    "def guess_the_number():\n",
    "    \"\"\"\n",
    "    Function to play a simple game of guessing the correct number from a randomly assigned number.\n",
    "    \"\"\"\n",
    "    \n",
    "    # Generate a random numbe\n",
    "    number = random.randint(0,1000000)\n",
    "    \n",
    "    # Take the users input\n",
    "    guess = int(input(\"Guess the number: \"))\n",
    "    \n",
    "    # A while loop to check the guess with the random number\n",
    "    while guess != number:\n",
    "        while guess > number:\n",
    "            print(\"Too High! Guess again\")\n",
    "            guess = int(input(\"Try again: \"))\n",
    "        while guess < number:\n",
    "            print(\"Too Low! Guess again\")\n",
    "            guess = int(input(\"Try again: \"))\n",
    "        if guess == number:\n",
    "            print(\"Well done! that is correct!\")\n",
    "        "
   ]
  },
  {
   "cell_type": "code",
   "execution_count": 107,
   "id": "pleased-munich",
   "metadata": {},
   "outputs": [
    {
     "name": "stdout",
     "output_type": "stream",
     "text": [
      "Guess the number: 500000\n",
      "Too High! Guess again\n",
      "Try again: 25000\n",
      "Too Low! Guess again\n",
      "Try again: 40000\n",
      "Too Low! Guess again\n",
      "Try again: 250000\n",
      "Too High! Guess again\n",
      "Try again: 100000\n",
      "Too Low! Guess again\n",
      "Try again: 200000\n",
      "Too High! Guess again\n",
      "Try again: 150000\n",
      "Too Low! Guess again\n",
      "Try again: 170000\n",
      "Too High! Guess again\n",
      "Try again: 160000\n",
      "Too High! Guess again\n",
      "Try again: 155000\n",
      "Too High! Guess again\n",
      "Try again: 152500\n",
      "Too Low! Guess again\n",
      "Try again: 153000\n",
      "Too Low! Guess again\n",
      "Try again: 154000\n",
      "Too High! Guess again\n",
      "Try again: 153500\n",
      "Too Low! Guess again\n",
      "Try again: 153750\n",
      "Too High! Guess again\n",
      "Try again: 153600\n",
      "Too Low! Guess again\n",
      "Try again: 153650\n",
      "Too Low! Guess again\n",
      "Try again: 153700\n",
      "Too Low! Guess again\n",
      "Try again: 153725\n",
      "Too Low! Guess again\n",
      "Try again: 153740\n",
      "Too High! Guess again\n",
      "Try again: 153730\n",
      "Too Low! Guess again\n",
      "Try again: 153735\n",
      "Too High! Guess again\n",
      "Try again: 153732\n",
      "Well done! that is correct!\n"
     ]
    }
   ],
   "source": [
    "guess_the_number()"
   ]
  },
  {
   "cell_type": "code",
   "execution_count": 111,
   "id": "worthy-indonesia",
   "metadata": {},
   "outputs": [],
   "source": [
    "def guess_the_number():\n",
    "    \"\"\"\n",
    "    Function to play a simple game of guessing the correct number from a randomly assigned number.\n",
    "    \"\"\"\n",
    "    \n",
    "    # Generate a random numbe\n",
    "    number = random.randint(0,100)\n",
    "    \n",
    "    # Take the users input\n",
    "    guess = int(input(\"Guess the number: \"))\n",
    "    \n",
    "    # A while loop to check the guess with the random number\n",
    "    while guess != number:\n",
    "        if guess > number:\n",
    "            print(\"Too High! Guess again\")\n",
    "            \n",
    "        elif guess < number:\n",
    "            print(\"Too Low! Guess again\")\n",
    "            \n",
    "        guess = int(input(\"Try again: \"))\n",
    "            \n",
    "       \n",
    "            \n",
    "    print(\"Well done! that is correct!\")\n",
    "            "
   ]
  },
  {
   "cell_type": "code",
   "execution_count": 112,
   "id": "innovative-correspondence",
   "metadata": {},
   "outputs": [
    {
     "name": "stdout",
     "output_type": "stream",
     "text": [
      "Guess the number: 50\n",
      "Too Low! Guess again\n",
      "Try again: 75\n",
      "Too High! Guess again\n",
      "Try again: 65\n",
      "Too High! Guess again\n",
      "Try again: 60\n",
      "Too Low! Guess again\n",
      "Try again: 63\n",
      "Too High! Guess again\n",
      "Try again: 62\n",
      "Well done! that is correct!\n"
     ]
    }
   ],
   "source": [
    "guess_the_number()"
   ]
  },
  {
   "cell_type": "markdown",
   "id": "harmful-papua",
   "metadata": {},
   "source": [
    "## Arithmetic Bug Hunt!"
   ]
  },
  {
   "cell_type": "markdown",
   "id": "thirty-works",
   "metadata": {},
   "source": [
    "### 1."
   ]
  },
  {
   "cell_type": "code",
   "execution_count": 113,
   "id": "legal-editing",
   "metadata": {},
   "outputs": [
    {
     "name": "stdout",
     "output_type": "stream",
     "text": [
      "12\n"
     ]
    }
   ],
   "source": [
    "x = '1'\n",
    "y = '2'\n",
    "\n",
    "print(x+y)"
   ]
  },
  {
   "cell_type": "code",
   "execution_count": 114,
   "id": "restricted-prediction",
   "metadata": {},
   "outputs": [
    {
     "name": "stdout",
     "output_type": "stream",
     "text": [
      "3\n"
     ]
    }
   ],
   "source": [
    "x = int('1')\n",
    "y = int('2')\n",
    "\n",
    "print(x+y)"
   ]
  },
  {
   "cell_type": "markdown",
   "id": "invalid-married",
   "metadata": {},
   "source": [
    "### 2."
   ]
  },
  {
   "cell_type": "code",
   "execution_count": 115,
   "id": "incorrect-funds",
   "metadata": {},
   "outputs": [
    {
     "data": {
      "text/latex": [
       "$\\displaystyle \f",
       "rac{1}{2}$"
      ],
      "text/plain": [
       "<IPython.core.display.Math object>"
      ]
     },
     "metadata": {},
     "output_type": "display_data"
    }
   ],
   "source": [
    "display(Math('\\frac{1}{2}'))"
   ]
  },
  {
   "cell_type": "code",
   "execution_count": 118,
   "id": "balanced-independence",
   "metadata": {},
   "outputs": [
    {
     "data": {
      "text/latex": [
       "$\\displaystyle \\frac{1}{2}$"
      ],
      "text/plain": [
       "<IPython.core.display.Math object>"
      ]
     },
     "metadata": {},
     "output_type": "display_data"
    }
   ],
   "source": [
    "display(Math('\\\\frac{1}{2}'))"
   ]
  },
  {
   "cell_type": "markdown",
   "id": "durable-depression",
   "metadata": {},
   "source": [
    "### 3."
   ]
  },
  {
   "cell_type": "code",
   "execution_count": 120,
   "id": "muslim-option",
   "metadata": {},
   "outputs": [
    {
     "ename": "TypeError",
     "evalue": "not enough arguments for format string",
     "output_type": "error",
     "traceback": [
      "\u001b[1;31m---------------------------------------------------------------------------\u001b[0m",
      "\u001b[1;31mTypeError\u001b[0m                                 Traceback (most recent call last)",
      "\u001b[1;32m<ipython-input-120-5d16295a2ebe>\u001b[0m in \u001b[0;36m<module>\u001b[1;34m\u001b[0m\n\u001b[0;32m      2\u001b[0m \u001b[0my\u001b[0m \u001b[1;33m=\u001b[0m \u001b[1;36m5\u001b[0m\u001b[1;33m\u001b[0m\u001b[1;33m\u001b[0m\u001b[0m\n\u001b[0;32m      3\u001b[0m \u001b[1;33m\u001b[0m\u001b[0m\n\u001b[1;32m----> 4\u001b[1;33m \u001b[0mdisplay\u001b[0m\u001b[1;33m(\u001b[0m\u001b[0mMath\u001b[0m\u001b[1;33m(\u001b[0m\u001b[1;34m'%g + %g = %g'\u001b[0m \u001b[1;33m%\u001b[0m\u001b[1;33m(\u001b[0m\u001b[0mx\u001b[0m\u001b[1;33m,\u001b[0m\u001b[0my\u001b[0m\u001b[1;33m)\u001b[0m\u001b[1;33m)\u001b[0m\u001b[1;33m)\u001b[0m\u001b[1;33m\u001b[0m\u001b[1;33m\u001b[0m\u001b[0m\n\u001b[0m",
      "\u001b[1;31mTypeError\u001b[0m: not enough arguments for format string"
     ]
    }
   ],
   "source": [
    "x = 4\n",
    "y = 5\n",
    "\n",
    "display(Math('%g + %g = %g' %(x,y)))"
   ]
  },
  {
   "cell_type": "code",
   "execution_count": 121,
   "id": "incorporate-congo",
   "metadata": {},
   "outputs": [
    {
     "data": {
      "text/latex": [
       "$\\displaystyle 4 + 5 = 9$"
      ],
      "text/plain": [
       "<IPython.core.display.Math object>"
      ]
     },
     "metadata": {},
     "output_type": "display_data"
    }
   ],
   "source": [
    "x = 4\n",
    "y = 5\n",
    "\n",
    "display(Math('%g + %g = %g' %(x,y, x+y)))"
   ]
  },
  {
   "cell_type": "markdown",
   "id": "hidden-passing",
   "metadata": {},
   "source": [
    "### 4."
   ]
  },
  {
   "cell_type": "code",
   "execution_count": 122,
   "id": "metropolitan-quarter",
   "metadata": {},
   "outputs": [
    {
     "data": {
      "text/latex": [
       "$\\displaystyle \\frac{4}{5} = 0$"
      ],
      "text/plain": [
       "<IPython.core.display.Math object>"
      ]
     },
     "metadata": {},
     "output_type": "display_data"
    }
   ],
   "source": [
    "display(Math('\\\\frac{%i}{%i} = %i' %(x, y, x/y)))"
   ]
  },
  {
   "cell_type": "code",
   "execution_count": 123,
   "id": "macro-bryan",
   "metadata": {},
   "outputs": [
    {
     "data": {
      "text/latex": [
       "$\\displaystyle \\frac{4}{5} = 0.8$"
      ],
      "text/plain": [
       "<IPython.core.display.Math object>"
      ]
     },
     "metadata": {},
     "output_type": "display_data"
    }
   ],
   "source": [
    "display(Math('\\\\frac{%g}{%g} = %g' %(x, y, x/y)))"
   ]
  },
  {
   "cell_type": "markdown",
   "id": "worthy-husband",
   "metadata": {},
   "source": [
    "### 5."
   ]
  },
  {
   "cell_type": "code",
   "execution_count": 124,
   "id": "anonymous-robertson",
   "metadata": {},
   "outputs": [
    {
     "data": {
      "text/plain": [
       "1"
      ]
     },
     "execution_count": 124,
     "metadata": {},
     "output_type": "execute_result"
    }
   ],
   "source": [
    "3^2 #should equal 9"
   ]
  },
  {
   "cell_type": "code",
   "execution_count": 125,
   "id": "swiss-ideal",
   "metadata": {},
   "outputs": [
    {
     "data": {
      "text/plain": [
       "9"
      ]
     },
     "execution_count": 125,
     "metadata": {},
     "output_type": "execute_result"
    }
   ],
   "source": [
    "3**2 #should equal 9"
   ]
  },
  {
   "cell_type": "code",
   "execution_count": 126,
   "id": "associate-senegal",
   "metadata": {},
   "outputs": [
    {
     "ename": "SyntaxError",
     "evalue": "invalid syntax (<ipython-input-126-8babc6b87f2c>, line 1)",
     "output_type": "error",
     "traceback": [
      "\u001b[1;36m  File \u001b[1;32m\"<ipython-input-126-8babc6b87f2c>\"\u001b[1;36m, line \u001b[1;32m1\u001b[0m\n\u001b[1;33m    for i in range(0, 3)\u001b[0m\n\u001b[1;37m                        ^\u001b[0m\n\u001b[1;31mSyntaxError\u001b[0m\u001b[1;31m:\u001b[0m invalid syntax\n"
     ]
    }
   ],
   "source": [
    "for i in range(0, 3)\n",
    "    display(Math('%g\\\\times2 = %g' %(i, i*2)))"
   ]
  },
  {
   "cell_type": "code",
   "execution_count": 127,
   "id": "affiliated-spyware",
   "metadata": {},
   "outputs": [
    {
     "data": {
      "text/latex": [
       "$\\displaystyle 0\\times2 = 0$"
      ],
      "text/plain": [
       "<IPython.core.display.Math object>"
      ]
     },
     "metadata": {},
     "output_type": "display_data"
    },
    {
     "data": {
      "text/latex": [
       "$\\displaystyle 1\\times2 = 2$"
      ],
      "text/plain": [
       "<IPython.core.display.Math object>"
      ]
     },
     "metadata": {},
     "output_type": "display_data"
    },
    {
     "data": {
      "text/latex": [
       "$\\displaystyle 2\\times2 = 4$"
      ],
      "text/plain": [
       "<IPython.core.display.Math object>"
      ]
     },
     "metadata": {},
     "output_type": "display_data"
    }
   ],
   "source": [
    "for i in range(0, 3):\n",
    "    display(Math('%g\\\\times2 = %g' %(i, i*2)))"
   ]
  },
  {
   "cell_type": "code",
   "execution_count": null,
   "id": "willing-colors",
   "metadata": {},
   "outputs": [],
   "source": []
  }
 ],
 "metadata": {
  "hide_input": false,
  "kernelspec": {
   "display_name": "Python 3",
   "language": "python",
   "name": "python3"
  },
  "language_info": {
   "codemirror_mode": {
    "name": "ipython",
    "version": 3
   },
   "file_extension": ".py",
   "mimetype": "text/x-python",
   "name": "python",
   "nbconvert_exporter": "python",
   "pygments_lexer": "ipython3",
   "version": "3.9.2"
  }
 },
 "nbformat": 4,
 "nbformat_minor": 5
}
